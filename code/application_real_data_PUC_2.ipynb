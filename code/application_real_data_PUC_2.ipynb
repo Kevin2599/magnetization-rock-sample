{
 "cells": [
  {
   "cell_type": "code",
   "execution_count": 1,
   "metadata": {
    "collapsed": true
   },
   "outputs": [],
   "source": [
    "%matplotlib inline"
   ]
  },
  {
   "cell_type": "code",
   "execution_count": 2,
   "metadata": {
    "collapsed": true
   },
   "outputs": [],
   "source": [
    "import fatiando\n",
    "import numpy as np\n",
    "from IPython.display import Image\n",
    "from fatiando.vis import mpl, myv\n",
    "import datetime\n",
    "import string as st"
   ]
  },
  {
   "cell_type": "code",
   "execution_count": 3,
   "metadata": {
    "collapsed": true
   },
   "outputs": [],
   "source": [
    "mpl.rcParams['font.size'] = 16"
   ]
  },
  {
   "cell_type": "code",
   "execution_count": 4,
   "metadata": {
    "collapsed": true
   },
   "outputs": [],
   "source": [
    "import functions as af"
   ]
  },
  {
   "cell_type": "code",
   "execution_count": 5,
   "metadata": {
    "collapsed": true
   },
   "outputs": [],
   "source": [
    "notebook_name = 'application_real_data_PUC_2.ipynb'"
   ]
  },
  {
   "cell_type": "code",
   "execution_count": 6,
   "metadata": {
    "collapsed": false
   },
   "outputs": [
    {
     "name": "stdout",
     "output_type": "stream",
     "text": [
      "Version of Fatiando a Terra used: 0.4\n"
     ]
    }
   ],
   "source": [
    "print \"Version of Fatiando a Terra used: {}\".format(fatiando.__version__)"
   ]
  },
  {
   "cell_type": "code",
   "execution_count": 7,
   "metadata": {
    "collapsed": true
   },
   "outputs": [],
   "source": [
    "saved_files = [] ### List of saved files"
   ]
  },
  {
   "cell_type": "markdown",
   "metadata": {},
   "source": [
    "### Load data from txt files"
   ]
  },
  {
   "cell_type": "code",
   "execution_count": 8,
   "metadata": {
    "collapsed": true
   },
   "outputs": [],
   "source": [
    "files = ['..\\\\data\\\\data0_2.txt', \n",
    "         '..\\\\data\\\\data1_2.txt',\n",
    "         '..\\\\data\\\\data2_2.txt',\n",
    "         '..\\\\data\\\\data3_2.txt']\n",
    "\n",
    "nfiles = len(files)"
   ]
  },
  {
   "cell_type": "code",
   "execution_count": 9,
   "metadata": {
    "collapsed": true
   },
   "outputs": [],
   "source": [
    "data = []\n",
    "\n",
    "for i in range(nfiles):\n",
    "    data.append(np.loadtxt(files[i]))"
   ]
  },
  {
   "cell_type": "markdown",
   "metadata": {},
   "source": [
    "### Parameters of the sample"
   ]
  },
  {
   "cell_type": "code",
   "execution_count": 10,
   "metadata": {
    "collapsed": false
   },
   "outputs": [],
   "source": [
    "N = 16 # number of prisms forming the sample\n",
    "M = 3*N # number of parameters to be estimated\n",
    "\n",
    "Lx = 0.001 # in m\n",
    "Ly = 0.003 # in m\n",
    "Lz = Ly  # in m\n",
    "\n",
    "shape = (42,102) \n",
    "#shape = (102,42)"
   ]
  },
  {
   "cell_type": "code",
   "execution_count": 11,
   "metadata": {
    "collapsed": true
   },
   "outputs": [],
   "source": [
    "xmin_sample = -0.5*Lx*N #in m\n",
    "centers = [100.*(xmin_sample + 0.5*Lx + i*Lx) for i in range(N)] #in cm\n",
    "centers = np.array(centers)"
   ]
  },
  {
   "cell_type": "markdown",
   "metadata": {},
   "source": [
    "### Interpretation model"
   ]
  },
  {
   "cell_type": "code",
   "execution_count": 12,
   "metadata": {
    "collapsed": false
   },
   "outputs": [],
   "source": [
    "model = af.sample(Lx,Ly,Lz,N)"
   ]
  },
  {
   "cell_type": "code",
   "execution_count": 13,
   "metadata": {
    "collapsed": false
   },
   "outputs": [],
   "source": [
    "xmin = np.min([data[0][:,0], data[1][:,0], data[2][:,0], data[3][:,0]])\n",
    "xmax = np.max([data[0][:,0], data[1][:,0], data[2][:,0], data[3][:,0]])\n",
    "ymin = np.min([data[0][:,1], data[1][:,1], data[2][:,1], data[3][:,1]])\n",
    "ymax = np.max([data[0][:,1], data[1][:,1], data[2][:,1], data[3][:,1]])\n",
    "zmin = np.min([data[0][:,2], data[1][:,2], data[2][:,2], data[3][:,2]])\n",
    "zmax = np.max([data[0][:,2], data[1][:,2], data[2][:,2], data[3][:,2]])\n",
    "\n",
    "volume = [xmin, xmax, ymin, ymax, zmin, zmax]\n",
    "area = [xmin,xmax,ymin,ymax]"
   ]
  },
  {
   "cell_type": "code",
   "execution_count": 14,
   "metadata": {
    "collapsed": false
   },
   "outputs": [],
   "source": [
    "scene = myv.figure()\n",
    "myv.prisms(model, color= (0.4,0.4,0.4))\n",
    "\n",
    "myv.points(np.vstack((data[0][:,0], data[0][:,1], data[0][:,2])).T, \n",
    "           color=(1, 0, 0), size=0.00005, opacity=1, spherical=False)\n",
    "myv.points(np.vstack((data[1][:,0], data[1][:,1], data[1][:,2])).T, \n",
    "           color=(0, 0, 1), size=0.00005, opacity=1, spherical=False)\n",
    "myv.points(np.vstack((data[2][:,0], data[2][:,1], data[2][:,2])).T, \n",
    "           color=(0, 1, 0), size=0.00005, opacity=1, spherical=False)\n",
    "myv.points(np.vstack((data[3][:,0], data[3][:,1], data[3][:,2])).T, \n",
    "           color=(0, 0, 0), size=0.00005, opacity=1, spherical=False)\n",
    "\n",
    "\n",
    "\n",
    "ax = myv.axes(myv.outline(volume), ranges=[b for b in volume], nlabels=5, fmt='%.3f')\n",
    "ax.axes.x_label, ax.axes.y_label, ax.axes.z_label = 'x (cm)', 'y (cm)', 'z (cm)'\n",
    "ax.axes.font_factor = 1.2\n",
    "myv.wall_bottom(ax.axes.bounds, opacity=0.2)\n",
    "myv.wall_north(ax.axes.bounds)\n",
    "#myv.savefig('model2.png')\n",
    "myv.show()\n",
    "#Image(filename='model2.png')"
   ]
  },
  {
   "cell_type": "markdown",
   "metadata": {},
   "source": [
    "### Inversion"
   ]
  },
  {
   "cell_type": "code",
   "execution_count": 15,
   "metadata": {
    "collapsed": true
   },
   "outputs": [],
   "source": [
    "B_obs = []\n",
    "for i in range(4):\n",
    "    B_obs.append(data[i][:,3])"
   ]
  },
  {
   "cell_type": "code",
   "execution_count": 16,
   "metadata": {
    "collapsed": true
   },
   "outputs": [],
   "source": [
    "A = []\n",
    "for i in range(4):\n",
    "    A.append(af.sensitivity(N, data[i][:,0], data[i][:,1], data[i][:,2], model,i))"
   ]
  },
  {
   "cell_type": "code",
   "execution_count": 17,
   "metadata": {
    "collapsed": false
   },
   "outputs": [],
   "source": [
    "R = np.zeros(M+1)\n",
    "R[0] = 1.\n",
    "R[3] = -1.\n",
    "R = np.resize(R, (M-3,M))"
   ]
  },
  {
   "cell_type": "code",
   "execution_count": 18,
   "metadata": {
    "collapsed": true
   },
   "outputs": [],
   "source": [
    "u0 = 0."
   ]
  },
  {
   "cell_type": "code",
   "execution_count": 19,
   "metadata": {
    "collapsed": true
   },
   "outputs": [],
   "source": [
    "H = np.dot(np.vstack(A).T, np.vstack(A))"
   ]
  },
  {
   "cell_type": "code",
   "execution_count": 20,
   "metadata": {
    "collapsed": false
   },
   "outputs": [
    {
     "data": {
      "text/plain": [
       "12526138.706979195"
      ]
     },
     "execution_count": 20,
     "metadata": {},
     "output_type": "execute_result"
    }
   ],
   "source": [
    "f0 = np.trace(H)/M\n",
    "f0"
   ]
  },
  {
   "cell_type": "code",
   "execution_count": 21,
   "metadata": {
    "collapsed": true
   },
   "outputs": [],
   "source": [
    "H = H + u0*f0*np.dot(R.T, R)"
   ]
  },
  {
   "cell_type": "code",
   "execution_count": 22,
   "metadata": {
    "collapsed": true
   },
   "outputs": [],
   "source": [
    "h = np.dot(np.vstack(A).T, np.hstack(B_obs))"
   ]
  },
  {
   "cell_type": "code",
   "execution_count": 23,
   "metadata": {
    "collapsed": true
   },
   "outputs": [],
   "source": [
    "p_est = np.linalg.solve(H, h)"
   ]
  },
  {
   "cell_type": "code",
   "execution_count": 24,
   "metadata": {
    "collapsed": false
   },
   "outputs": [],
   "source": [
    "p_est = af.L2_norm(np.vstack(A),np.hstack(B_obs))\n",
    "#p_est = f.L2_norm(np.vstack((A[1],A[2],A[3])),np.hstack((B_obs[1],B_obs[2], B_obs[3])))\n",
    "#p_est = f.L2_norm(np.vstack((A[0],A[1],A[2])),np.hstack((B_obs[0],B_obs[1], B_obs[2])))\n",
    "#p_est = f.L2_norm(np.vstack((A[1],A[2])),np.hstack((B_obs[1],B_obs[2])))\n",
    "#p_est = f.L2_norm(np.array(A[1]),np.array(B_obs[1]))\n",
    "#p_est = f.L2_norm(np.array(A[0]),np.array(B_obs[0]))"
   ]
  },
  {
   "cell_type": "code",
   "execution_count": 25,
   "metadata": {
    "collapsed": false
   },
   "outputs": [],
   "source": [
    "mag_r = af.parameters_sph(N,p_est)"
   ]
  },
  {
   "cell_type": "code",
   "execution_count": 30,
   "metadata": {
    "collapsed": false
   },
   "outputs": [],
   "source": [
    "#Save the total-field anomaly in a txt file\n",
    "now = datetime.datetime.utcnow().strftime('%d %B %Y %H:%M:%S UTC')\n",
    "header = \"\"\"# Generated by {name} on {date}\n",
    "#\n",
    "# Parameters estimated through inversion using the method proposed in this work.\n",
    "# The result is the magnetization component within each prism that compose the interpretative model.\n",
    "# \n",
    "# Regular grid with\n",
    "# shape (nx, ny): {shape}\n",
    "# area [xmin, xmax, ymin, ymax]: area\n",
    "# \n",
    "# Parameters:\n",
    "#\n",
    "# Intensity (A/m)    Inclination (degree)   Declination (degree): \n",
    "#\n",
    "#\n",
    "\"\"\".format(name=notebook_name, date=now, shape = 'shape', area = 'area')\n",
    "file_name = '..\\\\data\\\\estimate_real_2.txt'\n",
    "for i in range(N):\n",
    "    with open(file_name, 'w') as f:\n",
    "        f.write(header)\n",
    "        np.savetxt(f, mag_r, fmt='%.5f')\n",
    "    saved_files.append(file_name)"
   ]
  },
  {
   "cell_type": "code",
   "execution_count": 28,
   "metadata": {
    "collapsed": false
   },
   "outputs": [
    {
     "ename": "SyntaxError",
     "evalue": "invalid syntax (<ipython-input-28-a8b9a2673cdc>, line 1)",
     "output_type": "error",
     "traceback": [
      "\u001b[1;36m  File \u001b[1;32m\"<ipython-input-28-a8b9a2673cdc>\"\u001b[1;36m, line \u001b[1;32m1\u001b[0m\n\u001b[1;33m    çççççççççççççççççççççççççççççççççç\u001b[0m\n\u001b[1;37m    ^\u001b[0m\n\u001b[1;31mSyntaxError\u001b[0m\u001b[1;31m:\u001b[0m invalid syntax\n"
     ]
    }
   ],
   "source": [
    "çççççççççççççççççççççççççççççççççç"
   ]
  },
  {
   "cell_type": "code",
   "execution_count": null,
   "metadata": {
    "collapsed": true
   },
   "outputs": [],
   "source": [
    "np.savetxt('..\\\\data\\\\estimate_real_2.txt', np.array(mag_r), fmt='%.5f')"
   ]
  },
  {
   "cell_type": "code",
   "execution_count": null,
   "metadata": {
    "collapsed": true
   },
   "outputs": [],
   "source": [
    "B_pre = []\n",
    "for i in range(4):\n",
    "    B_pre.append(np.dot(A[i],p_est))"
   ]
  },
  {
   "cell_type": "code",
   "execution_count": null,
   "metadata": {
    "collapsed": true
   },
   "outputs": [],
   "source": [
    "r_norm = []\n",
    "r_mean = []\n",
    "r_std = []\n",
    "\n",
    "for i in range(4):\n",
    "    aux1,aux2,aux3 = f.residual(0.001*B_obs[i],0.001*B_pre[i])\n",
    "    r_norm.append(aux1) # in uT\n",
    "    r_mean.append(aux2) # in uT\n",
    "    r_std.append(aux3)  # in uT"
   ]
  },
  {
   "cell_type": "markdown",
   "metadata": {},
   "source": [
    "### Plotting of the observed and predicted data "
   ]
  },
  {
   "cell_type": "code",
   "execution_count": null,
   "metadata": {
    "collapsed": false
   },
   "outputs": [],
   "source": [
    "title_font = 22\n",
    "bottom_font = 16\n",
    "\n",
    "labels = ['(a)', '(b)', '(c)', \n",
    "          '(d)', '(e)', '(f)',\n",
    "          '(g)', '(h)', '(i)',\n",
    "          '(j)', '(k)', '(l)']\n",
    "\n",
    "lables_place = (0.05, 0.90)\n",
    "lables_size = 24\n",
    "\n",
    "mpl.close('all')\n",
    "mpl.figure(figsize=(20,24), tight_layout=True)\n",
    "\n",
    "for i in range(0,4,2):\n",
    "\n",
    "    # in uT\n",
    "    ranges = 0.001*np.abs([B_obs[i].max(), B_obs[i].min(),\n",
    "                           B_pre[i].max(), B_pre[i].min()]).max()\n",
    "\n",
    "    mpl.subplot(4,3,1 + 3*i)\n",
    "\n",
    "    #mpl.title(labels[3*i], fontsize=title_font)\n",
    "    nlevels = mpl.contourf(100.*data[i][:,1], 100.*data[i][:,0], 0.001*B_obs[i], \n",
    "                           shape, 20, cmap=mpl.cm.RdBu_r,\n",
    "                           vmin=-ranges, vmax=ranges)\n",
    "    #mpl.colorbar(pad=0.01, aspect=40, shrink=1.0).set_label('uT')\n",
    "    mpl.colorbar(pad=0.01, aspect=40, shrink=1.0)\n",
    "    mpl.xlabel('y (cm)', fontsize = title_font)\n",
    "    mpl.ylabel('x (cm)', fontsize = title_font)\n",
    "    mpl.annotate(labels[3*i], xy = lables_place, \n",
    "                 xycoords = 'axes fraction', fontsize=lables_size)\n",
    "\n",
    "    mpl.subplot(4,3,1 + 3*i + 1)\n",
    "\n",
    "    #mpl.title(labels[3*i + 1], fontsize=title_font)\n",
    "    nlevels = mpl.contourf(100.*data[i][:,1], 100.*data[i][:,0], 0.001*B_pre[i], \n",
    "                           shape, 20, cmap=mpl.cm.RdBu_r,\n",
    "                           vmin=-ranges, vmax=ranges)\n",
    "    #mpl.colorbar(pad=0.01, aspect=40, shrink=1.0).set_label('uT')\n",
    "    mpl.colorbar(pad=0.01, aspect=40, shrink=1.0)\n",
    "    mpl.xlabel('y (cm)', fontsize = title_font)\n",
    "    mpl.ylabel('x (cm)', fontsize = title_font)\n",
    "    mpl.annotate(labels[3*i + 1], xy = lables_place, \n",
    "                 xycoords = 'axes fraction', fontsize=lables_size)\n",
    "\n",
    "    mpl.subplot(4,3,1 + 3*i + 2)\n",
    "    #mpl.title(labels[3*i + 2], fontsize=title_font)\n",
    "    mpl.xlabel('$\\mu$ = %.3f uT | $\\sigma$ = %.3f uT' % (r_mean[i], r_std[i]), fontsize = title_font)\n",
    "    nbins = int((np.max(r_norm[i]) - np.min(r_norm[i])))\n",
    "    mpl.hist(r_norm[i],bins=nbins,normed=True)\n",
    "    mpl.ylim(0.,0.5)\n",
    "    mpl.xlim(-10., 10.)\n",
    "    mpl.annotate(labels[3*i + 2], xy = lables_place, \n",
    "                 xycoords = 'axes fraction', fontsize=lables_size)\n",
    "    \n",
    "for i in range(1,4,2):\n",
    "\n",
    "    # in uT\n",
    "    ranges = 0.001*np.abs([B_obs[i].max(), B_obs[i].min(),\n",
    "                           B_pre[i].max(), B_pre[i].min()]).max()\n",
    "\n",
    "    mpl.subplot(4,3,1 + 3*i)\n",
    "\n",
    "    #mpl.title(labels[3*i], fontsize=title_font)\n",
    "    nlevels = mpl.contourf(100.*data[i][:,2], 100.*data[i][:,0], 0.001*B_obs[i], \n",
    "                           shape, 20, cmap=mpl.cm.RdBu_r,\n",
    "                           vmin=-ranges, vmax=ranges)\n",
    "    #mpl.colorbar(pad=0.01, aspect=40, shrink=1.0).set_label('uT')\n",
    "    mpl.colorbar(pad=0.01, aspect=40, shrink=1.0)\n",
    "    mpl.xlabel('z (cm)', fontsize = title_font)\n",
    "    mpl.ylabel('x (cm)', fontsize = title_font)\n",
    "    mpl.annotate(labels[3*i], xy = lables_place, \n",
    "                 xycoords = 'axes fraction', fontsize=lables_size)\n",
    "\n",
    "    mpl.subplot(4,3,1 + 3*i + 1)\n",
    "\n",
    "    #mpl.title(labels[3*i + 1], fontsize=title_font)\n",
    "    nlevels = mpl.contourf(100.*data[i][:,2], 100.*data[i][:,0], 0.001*B_pre[i], \n",
    "                           shape, 20, cmap=mpl.cm.RdBu_r,\n",
    "                           vmin=-ranges, vmax=ranges)\n",
    "    #mpl.colorbar(pad=0.01, aspect=40, shrink=1.0).set_label('uT')\n",
    "    mpl.colorbar(pad=0.01, aspect=40, shrink=1.0)\n",
    "    mpl.xlabel('z (cm)', fontsize = title_font)\n",
    "    mpl.ylabel('x (cm)', fontsize = title_font)\n",
    "    mpl.annotate(labels[3*i+1], xy = lables_place, \n",
    "                 xycoords = 'axes fraction', fontsize=lables_size)\n",
    "\n",
    "    mpl.subplot(4,3,1 + 3*i + 2)\n",
    "    #mpl.title(labels[3*i + 2], fontsize=title_font)\n",
    "    mpl.xlabel('$\\mu$ = %.3f uT | $\\sigma$ = %.3f uT' % (r_mean[i], r_std[i]), fontsize = title_font)\n",
    "    nbins = int((np.max(r_norm[i]) - np.min(r_norm[i])))\n",
    "    mpl.hist(r_norm[i],bins=nbins,normed=True)\n",
    "    mpl.ylim(0.,0.5)\n",
    "    mpl.xlim(-10., 10.)\n",
    "    mpl.annotate(labels[3*i+2], xy = lables_place, \n",
    "                 xycoords = 'axes fraction', fontsize=lables_size)\n",
    "\n",
    "mpl.savefig('..\\\\manuscript\\\\Figs\\\\datafit_real_2.png')\n",
    "mpl.show()"
   ]
  },
  {
   "cell_type": "code",
   "execution_count": null,
   "metadata": {
    "collapsed": false
   },
   "outputs": [],
   "source": [
    "mpl.figure(figsize=(8,8))\n",
    "ax = mpl.subplot(111, polar=True)\n",
    "ax.set_theta_direction(-1) \n",
    "ax.set_theta_zero_location('N') \n",
    "ax.set_rgrids([0.2,0.4,0.6,0.8], angle=90.)\n",
    "\n",
    "f.proj_polar(4,mag_r[:4,:],color='r')\n",
    "f.proj_polar(4,mag_r[4:8,:],color='g')\n",
    "f.proj_polar(4,mag_r[8:12,:],color='b')\n",
    "f.proj_polar(4,mag_r[12:16,:],color='k')\n",
    "\n",
    "mpl.xticks(fontsize=20) \n",
    "mpl.yticks(fontsize=14) \n",
    "mpl.ylim(0.0, 1.0)\n",
    "#mpl.savefig('estimate_polar_real.png')\n",
    "mpl.show() "
   ]
  },
  {
   "cell_type": "code",
   "execution_count": null,
   "metadata": {
    "collapsed": false
   },
   "outputs": [],
   "source": [
    "non_spurious = np.array([True for i in range(N)])\n",
    "non_spurious[::4] = False\n",
    "\n",
    "spurious = np.array([False for i in range(N)])\n",
    "spurious[::4] = True"
   ]
  },
  {
   "cell_type": "code",
   "execution_count": null,
   "metadata": {
    "collapsed": false
   },
   "outputs": [],
   "source": [
    "label_font = 20\n",
    "legend_font = 16\n",
    "\n",
    "labels = ['(a)', '(b)', '(c)']\n",
    "\n",
    "lables_place = (0.03, 0.90)\n",
    "lables_size = 24\n",
    "\n",
    "mpl.show()\n",
    "mpl.close('all')\n",
    "mpl.figure(figsize=(8, 16), tight_layout=True)\n",
    "\n",
    "mpl.subplot(3,1,1)\n",
    "mpl.plot([-400.*Lx, -400.*Lx], [0., 1500.0], 'k-')\n",
    "mpl.plot([0., 0.], [0., 1500.0], 'k-')\n",
    "mpl.plot([400.*Lx, 400.*Lx], [0., 1500.0], 'k-')\n",
    "mpl.plot([np.min(centers), np.max(centers)], [0.0, 0.0], 'k--')\n",
    "#mpl.plot([np.min(centers), np.max(centers)], [1200.0, 1200.0], 'k--',\n",
    "#         label='Saturation magnetization')\n",
    "mpl.plot(centers, mag_r[:,0], 'b--', linewidth=2)\n",
    "mpl.plot(centers[non_spurious], mag_r[non_spurious,0], 'bo', markersize=10)\n",
    "mpl.plot(centers[spurious], mag_r[spurious,0], 'k^', markersize=12)\n",
    "mpl.ylabel('Intensity ($A/m$)', fontsize=label_font)\n",
    "mpl.ylim(0., np.max(mag_r[:,0]) + 50.)\n",
    "#mpl.legend(loc='best', numpoints=1)\n",
    "mpl.annotate(labels[0], xy = lables_place, \n",
    "                 xycoords = 'axes fraction', fontsize=lables_size)\n",
    "mpl.annotate('0', xy = (0.12, 0.5), \n",
    "                 xycoords = 'axes fraction', fontsize=18)\n",
    "mpl.annotate('1', xy = (0.37, 0.5), \n",
    "                 xycoords = 'axes fraction', fontsize=18)\n",
    "mpl.annotate('2', xy = (0.62, 0.5), \n",
    "                 xycoords = 'axes fraction', fontsize=18)\n",
    "mpl.annotate('3', xy = (0.87, 0.5), \n",
    "                 xycoords = 'axes fraction', fontsize=18)\n",
    "\n",
    "mpl.subplot(3,1,2)\n",
    "mpl.plot([-400.*Lx, -400.*Lx], [-180., 180.0], 'k-')\n",
    "mpl.plot([0., 0.], [-180., 180.0], 'k-')\n",
    "mpl.plot([400.*Lx, 400.*Lx], [-180., 180.0], 'k-')\n",
    "mpl.plot([np.min(centers), np.max(centers)], [0.0, 0.0], 'k--')\n",
    "mpl.plot([np.min(centers), np.max(centers)], [45.0, 45.0], 'k--')\n",
    "mpl.plot([np.min(centers), np.max(centers)], [-90.0, -90.0], 'k--')\n",
    "mpl.plot([np.min(centers), np.max(centers)], [90.0, 90.0], 'k--')\n",
    "#mpl.plot([np.min(centers), np.max(centers)], [45.0, 45.0], 'k--')\n",
    "#mpl.plot([np.min(centers), np.max(centers)], [90.0, 90.0], 'k--')\n",
    "#mpl.plot([np.min(centers), np.max(centers)], [-90.0, -90.0], 'k--')\n",
    "mpl.plot(centers, mag_r[:,1], 'b--', linewidth=2)\n",
    "mpl.plot(centers[non_spurious], mag_r[non_spurious,1], 'bo', markersize=10)\n",
    "mpl.plot(centers[spurious], mag_r[spurious,1], 'k^', markersize=12)\n",
    "mpl.ylabel('Inclination ($^{\\circ}$)', fontsize=label_font)\n",
    "mpl.ylim(np.min(mag_r[:,1]) - 20., np.max(mag_r[:,1]) + 20.)\n",
    "#mpl.legend(loc='best', numpoints=1)\n",
    "mpl.annotate(labels[1], xy = lables_place, \n",
    "                 xycoords = 'axes fraction', fontsize=lables_size,\n",
    "                 backgroundcolor = 'w')\n",
    "mpl.annotate('0', xy = (0.12, 0.5), \n",
    "                 xycoords = 'axes fraction', fontsize=18)\n",
    "mpl.annotate('1', xy = (0.37, 0.5), \n",
    "                 xycoords = 'axes fraction', fontsize=18)\n",
    "mpl.annotate('2', xy = (0.62, 0.5), \n",
    "                 xycoords = 'axes fraction', fontsize=18)\n",
    "mpl.annotate('3', xy = (0.87, 0.5), \n",
    "                 xycoords = 'axes fraction', fontsize=18)\n",
    "\n",
    "mpl.subplot(3,1,3)\n",
    "mpl.plot([-400.*Lx, -400.*Lx], [-180., 200.0], 'k-')\n",
    "mpl.plot([0., 0.], [-180., 200.0], 'k-')\n",
    "mpl.plot([400.*Lx, 400.*Lx], [-180., 200.0], 'k-')\n",
    "mpl.plot([np.min(centers), np.max(centers)], [0.0, 0.0], 'k--')\n",
    "mpl.plot([np.min(centers), np.max(centers)], [180.0, 180.0], 'k--')\n",
    "mpl.plot([np.min(centers), np.max(centers)], [-180.0, -180.0], 'k--')\n",
    "#mpl.plot([np.min(centers), np.max(centers)], [180.0, 180.0], 'k--')\n",
    "mpl.plot(centers, mag_r[:,2], 'b--', linewidth=2)\n",
    "mpl.plot(centers[non_spurious], mag_r[non_spurious,2], 'bo', markersize=10)\n",
    "mpl.plot(centers[spurious], mag_r[spurious,2], 'k^', markersize=12)\n",
    "mpl.ylabel('Declination ($^{\\circ}$)', fontsize=label_font)\n",
    "#mpl.xlabel('Sample length ($cm$)', fontsize=label_font)\n",
    "mpl.xlabel('$x$ ($cm$)', fontsize=label_font)\n",
    "mpl.ylim(np.min(mag_r[:,2]) - 20., np.max(mag_r[:,2]) + 20.)\n",
    "#mpl.savefig('estimate_int_inc_dec_simul_validation.eps')\n",
    "#mpl.legend(loc='best', numpoints=1)\n",
    "mpl.annotate(labels[2], xy = (0.03, 0.05), \n",
    "                 xycoords = 'axes fraction', fontsize=lables_size,\n",
    "                 backgroundcolor = 'w')\n",
    "mpl.annotate('0', xy = (0.12, 0.5), \n",
    "                 xycoords = 'axes fraction', fontsize=18)\n",
    "mpl.annotate('1', xy = (0.37, 0.5), \n",
    "                 xycoords = 'axes fraction', fontsize=18)\n",
    "mpl.annotate('2', xy = (0.62, 0.5), \n",
    "                 xycoords = 'axes fraction', fontsize=18)\n",
    "mpl.annotate('3', xy = (0.87, 0.5), \n",
    "                 xycoords = 'axes fraction', fontsize=18)\n",
    "\n",
    "mpl.savefig('..\\\\manuscript\\\\Figs\\\\estimate_int_inc_dec_real_2.png')\n",
    "\n",
    "mpl.show()"
   ]
  },
  {
   "cell_type": "markdown",
   "metadata": {},
   "source": [
    "### Discussion"
   ]
  },
  {
   "cell_type": "markdown",
   "metadata": {},
   "source": [
    "The synthetic sample is formed by four justaposed cubes along the x diretion. The interpretation model used in this simulation is formed by 16 prisms, so that each cube of the original synthetic sample is described by four prisms. "
   ]
  },
  {
   "cell_type": "code",
   "execution_count": null,
   "metadata": {
    "collapsed": true
   },
   "outputs": [],
   "source": []
  }
 ],
 "metadata": {
  "kernelspec": {
   "display_name": "Python 2",
   "language": "python",
   "name": "python2"
  },
  "language_info": {
   "codemirror_mode": {
    "name": "ipython",
    "version": 2
   },
   "file_extension": ".py",
   "mimetype": "text/x-python",
   "name": "python",
   "nbconvert_exporter": "python",
   "pygments_lexer": "ipython2",
   "version": "2.7.9"
  }
 },
 "nbformat": 4,
 "nbformat_minor": 0
}
