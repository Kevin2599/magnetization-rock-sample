{
 "cells": [
  {
   "cell_type": "markdown",
   "metadata": {},
   "source": [
    "# 3.1.1. Validation test"
   ]
  },
  {
   "cell_type": "markdown",
   "metadata": {},
   "source": [
    "This code generates all the results presented in the subsubsection 3.1.1 Validation test."
   ]
  },
  {
   "cell_type": "code",
   "execution_count": 1,
   "metadata": {
    "collapsed": true
   },
   "outputs": [],
   "source": [
    "%matplotlib inline"
   ]
  },
  {
   "cell_type": "code",
   "execution_count": 2,
   "metadata": {
    "collapsed": false
   },
   "outputs": [],
   "source": [
    "import numpy as np\n",
    "from IPython.display import Image\n",
    "from fatiando.vis import mpl, myv\n",
    "from fatiando.gravmag import prism, sphere\n",
    "from fatiando.utils import contaminate"
   ]
  },
  {
   "cell_type": "code",
   "execution_count": 3,
   "metadata": {
    "collapsed": false
   },
   "outputs": [],
   "source": [
    "mpl.rcParams['font.size'] = 16"
   ]
  },
  {
   "cell_type": "code",
   "execution_count": 4,
   "metadata": {
    "collapsed": true
   },
   "outputs": [],
   "source": [
    "import functions as f"
   ]
  },
  {
   "cell_type": "markdown",
   "metadata": {},
   "source": [
    "### Load data from txt files"
   ]
  },
  {
   "cell_type": "markdown",
   "metadata": {},
   "source": [
    "These data are the output of the application to real data."
   ]
  },
  {
   "cell_type": "code",
   "execution_count": 5,
   "metadata": {
    "collapsed": true
   },
   "outputs": [],
   "source": [
    "files = ['..\\\\data\\\\data0.txt', \n",
    "         '..\\\\data\\\\data1.txt',\n",
    "         '..\\\\data\\\\data2.txt',\n",
    "         '..\\\\data\\\\data3.txt']\n",
    "\n",
    "nfiles = len(files)"
   ]
  },
  {
   "cell_type": "code",
   "execution_count": 6,
   "metadata": {
    "collapsed": true
   },
   "outputs": [],
   "source": [
    "data = []\n",
    "\n",
    "for i in range(nfiles):\n",
    "    data.append(np.loadtxt(files[i]))"
   ]
  },
  {
   "cell_type": "code",
   "execution_count": 7,
   "metadata": {
    "collapsed": false
   },
   "outputs": [],
   "source": [
    "mag_true = np.loadtxt('..\\\\data\\\\estimate_real.txt')"
   ]
  },
  {
   "cell_type": "code",
   "execution_count": 8,
   "metadata": {
    "collapsed": false
   },
   "outputs": [
    {
     "data": {
      "text/plain": [
       "array([[  131.01194,    16.41442,    39.54302],\n",
       "       [  673.98806,    26.6138 ,   169.88033],\n",
       "       [  989.84953,    30.33975,   170.6616 ],\n",
       "       [  997.18983,    24.82375,   168.10551],\n",
       "       [  560.82558,    62.814  ,   127.70374],\n",
       "       [ 1357.78891,    56.39737,     9.24522],\n",
       "       [ 1091.98779,    43.99581,    13.09021],\n",
       "       [ 1158.32525,    55.09479,    14.65751],\n",
       "       [  355.01222,   -12.85966,     5.89837],\n",
       "       [ 1292.03672,   -76.35431,    -5.81355],\n",
       "       [ 1124.4815 ,   -75.15218,    -3.96007],\n",
       "       [ 1326.11982,   -74.43655,    -7.43013],\n",
       "       [  291.41501,    63.01156,    39.56695],\n",
       "       [ 1236.55544,    85.55372,    77.15178],\n",
       "       [ 1242.73408,    84.49428,    43.78384],\n",
       "       [ 1130.17555,    83.85608,   159.73456]])"
      ]
     },
     "execution_count": 8,
     "metadata": {},
     "output_type": "execute_result"
    }
   ],
   "source": [
    "mag_true"
   ]
  },
  {
   "cell_type": "markdown",
   "metadata": {},
   "source": [
    "Here, the estimated magnetization obtained with real data is modified in order to simulate an observed data set. Only the estimated inclination and declination are modified."
   ]
  },
  {
   "cell_type": "code",
   "execution_count": 9,
   "metadata": {
    "collapsed": true
   },
   "outputs": [],
   "source": [
    "mean_inc0 = np.mean(mag_true[1:4,1])\n",
    "mean_inc1 = np.mean(mag_true[5:8,1])\n",
    "mean_inc2 = np.mean(mag_true[9:12,1])\n",
    "mean_inc3 = np.mean(mag_true[13:16,1])\n",
    "\n",
    "mean_dec0 = np.mean(mag_true[1:4,2])\n",
    "mean_dec1 = np.mean(mag_true[5:8,2])\n",
    "mean_dec2 = np.mean(mag_true[9:12,2])\n",
    "mean_dec3 = np.mean(mag_true[13:16,2])"
   ]
  },
  {
   "cell_type": "code",
   "execution_count": 10,
   "metadata": {
    "collapsed": true
   },
   "outputs": [],
   "source": [
    "mag_true[0:4,1] = mean_inc0\n",
    "mag_true[4:8,1] = mean_inc1\n",
    "mag_true[8:12,1] = mean_inc2\n",
    "mag_true[12:16,1] = mean_inc3"
   ]
  },
  {
   "cell_type": "code",
   "execution_count": 11,
   "metadata": {
    "collapsed": true
   },
   "outputs": [],
   "source": [
    "mag_true[0:4,2] = mean_dec0\n",
    "mag_true[4:8,2] = mean_dec1\n",
    "mag_true[8:12,2] = mean_dec2\n",
    "mag_true[12:16,2] = mean_dec3"
   ]
  },
  {
   "cell_type": "code",
   "execution_count": 12,
   "metadata": {
    "collapsed": false
   },
   "outputs": [
    {
     "data": {
      "text/plain": [
       "array([[  131.01194   ,    27.2591    ,   169.54914667],\n",
       "       [  673.98806   ,    27.2591    ,   169.54914667],\n",
       "       [  989.84953   ,    27.2591    ,   169.54914667],\n",
       "       [  997.18983   ,    27.2591    ,   169.54914667],\n",
       "       [  560.82558   ,    51.82932333,    12.33098   ],\n",
       "       [ 1357.78891   ,    51.82932333,    12.33098   ],\n",
       "       [ 1091.98779   ,    51.82932333,    12.33098   ],\n",
       "       [ 1158.32525   ,    51.82932333,    12.33098   ],\n",
       "       [  355.01222   ,   -75.31434667,    -5.73458333],\n",
       "       [ 1292.03672   ,   -75.31434667,    -5.73458333],\n",
       "       [ 1124.4815    ,   -75.31434667,    -5.73458333],\n",
       "       [ 1326.11982   ,   -75.31434667,    -5.73458333],\n",
       "       [  291.41501   ,    84.63469333,    93.55672667],\n",
       "       [ 1236.55544   ,    84.63469333,    93.55672667],\n",
       "       [ 1242.73408   ,    84.63469333,    93.55672667],\n",
       "       [ 1130.17555   ,    84.63469333,    93.55672667]])"
      ]
     },
     "execution_count": 12,
     "metadata": {},
     "output_type": "execute_result"
    }
   ],
   "source": [
    "mag_true"
   ]
  },
  {
   "cell_type": "markdown",
   "metadata": {},
   "source": [
    "### Parameters of the sample"
   ]
  },
  {
   "cell_type": "code",
   "execution_count": 13,
   "metadata": {
    "collapsed": true
   },
   "outputs": [],
   "source": [
    "P = 16 # number of prisms forming the sample\n",
    "M = 3*P # number of parameters to be estimated\n",
    "\n",
    "Lx = 0.001 # in m\n",
    "Ly = 0.003 # in m\n",
    "Lz = Ly  # in m\n",
    "\n",
    "shape = (42,102) # (Ny, Nx)"
   ]
  },
  {
   "cell_type": "code",
   "execution_count": 14,
   "metadata": {
    "collapsed": false
   },
   "outputs": [],
   "source": [
    "xmin_sample = -0.5*Lx*P #in m\n",
    "centers = [100.*(xmin_sample + 0.5*Lx + i*Lx) for i in range(P)] #in cm"
   ]
  },
  {
   "cell_type": "markdown",
   "metadata": {},
   "source": [
    "### Synthetic Sample"
   ]
  },
  {
   "cell_type": "code",
   "execution_count": 15,
   "metadata": {
    "collapsed": true
   },
   "outputs": [],
   "source": [
    "sample = f.sample(Lx,Ly,Lz,P, m = mag_true[:,0], inc = mag_true[:,1], dec = mag_true[:,2])"
   ]
  },
  {
   "cell_type": "code",
   "execution_count": 21,
   "metadata": {
    "collapsed": false
   },
   "outputs": [
    {
     "name": "stdout",
     "output_type": "stream",
     "text": [
      "{'magnetization': array([-114.53032184,   21.12534116,   60.00544778])}\n",
      "{'magnetization': array([-589.19873584,  108.67885557,  308.69671372])}\n",
      "{'magnetization': array([-865.32407079,  159.61071196,  453.36603885])}\n",
      "{'magnetization': array([-871.74094334,  160.79431661,  456.72800714])}\n",
      "{'magnetization': array([ 338.5978114 ,   74.01806902,  440.90608836])}\n",
      "{'magnetization': array([  819.76352304,   179.20172839,  1067.45736728])}\n",
      "{'magnetization': array([ 659.28639662,  144.12115013,  858.4916277 ])}\n",
      "{'magnetization': array([ 699.33756328,  152.87640465,  910.64436652])}\n",
      "{'magnetization': array([  89.55076795,   -8.99294895, -343.414419  ])}\n",
      "{'magnetization': array([  325.91238831,   -32.72907132, -1249.82751165])}\n",
      "{'magnetization': array([  283.64708649,   -28.48466661, -1087.74610913])}\n",
      "{'magnetization': array([  334.50974808,   -33.59244323, -1282.7971598 ])}\n",
      "{'magnetization': array([  -1.6904325 ,   27.19641262,  290.13825262])}\n",
      "{'magnetization': array([   -7.17297817,   115.40198967,  1231.13780112])}\n",
      "{'magnetization': array([   -7.20881906,   115.97861352,  1237.28937106])}\n",
      "{'magnetization': array([   -6.55589251,   105.47404745,  1125.22398633])}\n"
     ]
    }
   ],
   "source": [
    "for s in sample:\n",
    "    print s.props"
   ]
  },
  {
   "cell_type": "markdown",
   "metadata": {},
   "source": [
    "### Synthetic data"
   ]
  },
  {
   "cell_type": "markdown",
   "metadata": {},
   "source": [
    "The cell below introduces "
   ]
  },
  {
   "cell_type": "code",
   "execution_count": 16,
   "metadata": {
    "collapsed": true
   },
   "outputs": [],
   "source": [
    "# Simulate a Gaussian noise with null mean\n",
    "stdev_data = 30000.0 # nT"
   ]
  },
  {
   "cell_type": "code",
   "execution_count": 18,
   "metadata": {
    "collapsed": false
   },
   "outputs": [
    {
     "ename": "AttributeError",
     "evalue": "'NoneType' object has no attribute 'bz'",
     "output_type": "error",
     "traceback": [
      "\u001b[1;31m---------------------------------------------------------------------------\u001b[0m",
      "\u001b[1;31mAttributeError\u001b[0m                            Traceback (most recent call last)",
      "\u001b[1;32m<ipython-input-18-da9fdc0294b1>\u001b[0m in \u001b[0;36m<module>\u001b[1;34m()\u001b[0m\n\u001b[1;32m----> 1\u001b[1;33m \u001b[0mprism\u001b[0m\u001b[1;33m.\u001b[0m\u001b[0mbz\u001b[0m\u001b[1;33m(\u001b[0m\u001b[0mdata\u001b[0m\u001b[1;33m[\u001b[0m\u001b[1;36m0\u001b[0m\u001b[1;33m]\u001b[0m\u001b[1;33m[\u001b[0m\u001b[1;33m:\u001b[0m\u001b[1;33m,\u001b[0m\u001b[1;36m0\u001b[0m\u001b[1;33m]\u001b[0m\u001b[1;33m,\u001b[0m \u001b[0mdata\u001b[0m\u001b[1;33m[\u001b[0m\u001b[1;36m0\u001b[0m\u001b[1;33m]\u001b[0m\u001b[1;33m[\u001b[0m\u001b[1;33m:\u001b[0m\u001b[1;33m,\u001b[0m\u001b[1;36m1\u001b[0m\u001b[1;33m]\u001b[0m\u001b[1;33m,\u001b[0m \u001b[0mdata\u001b[0m\u001b[1;33m[\u001b[0m\u001b[1;36m0\u001b[0m\u001b[1;33m]\u001b[0m\u001b[1;33m[\u001b[0m\u001b[1;33m:\u001b[0m\u001b[1;33m,\u001b[0m\u001b[1;36m2\u001b[0m\u001b[1;33m]\u001b[0m\u001b[1;33m,\u001b[0m \u001b[0msample\u001b[0m\u001b[1;33m)\u001b[0m\u001b[1;33m\u001b[0m\u001b[0m\n\u001b[0m",
      "\u001b[1;32mC:\\Users\\Vanderlei\\Documents\\fatiando\\fatiando\\gravmag\\prism.pyc\u001b[0m in \u001b[0;36mbz\u001b[1;34m(xp, yp, zp, prisms, pmag)\u001b[0m\n\u001b[0;32m    796\u001b[0m         \u001b[0my1\u001b[0m\u001b[1;33m,\u001b[0m \u001b[0my2\u001b[0m \u001b[1;33m=\u001b[0m \u001b[0mprism\u001b[0m\u001b[1;33m.\u001b[0m\u001b[0my1\u001b[0m\u001b[1;33m,\u001b[0m \u001b[0mprism\u001b[0m\u001b[1;33m.\u001b[0m\u001b[0my2\u001b[0m\u001b[1;33m\u001b[0m\u001b[0m\n\u001b[0;32m    797\u001b[0m         \u001b[0mz1\u001b[0m\u001b[1;33m,\u001b[0m \u001b[0mz2\u001b[0m \u001b[1;33m=\u001b[0m \u001b[0mprism\u001b[0m\u001b[1;33m.\u001b[0m\u001b[0mz1\u001b[0m\u001b[1;33m,\u001b[0m \u001b[0mprism\u001b[0m\u001b[1;33m.\u001b[0m\u001b[0mz2\u001b[0m\u001b[1;33m\u001b[0m\u001b[0m\n\u001b[1;32m--> 798\u001b[1;33m         \u001b[0m_prism\u001b[0m\u001b[1;33m.\u001b[0m\u001b[0mbz\u001b[0m\u001b[1;33m(\u001b[0m\u001b[0mxp\u001b[0m\u001b[1;33m,\u001b[0m \u001b[0myp\u001b[0m\u001b[1;33m,\u001b[0m \u001b[0mzp\u001b[0m\u001b[1;33m,\u001b[0m \u001b[0mx1\u001b[0m\u001b[1;33m,\u001b[0m \u001b[0mx2\u001b[0m\u001b[1;33m,\u001b[0m \u001b[0my1\u001b[0m\u001b[1;33m,\u001b[0m \u001b[0my2\u001b[0m\u001b[1;33m,\u001b[0m \u001b[0mz1\u001b[0m\u001b[1;33m,\u001b[0m \u001b[0mz2\u001b[0m\u001b[1;33m,\u001b[0m \u001b[0mmx\u001b[0m\u001b[1;33m,\u001b[0m \u001b[0mmy\u001b[0m\u001b[1;33m,\u001b[0m \u001b[0mmz\u001b[0m\u001b[1;33m,\u001b[0m \u001b[0mres\u001b[0m\u001b[1;33m)\u001b[0m\u001b[1;33m\u001b[0m\u001b[0m\n\u001b[0m\u001b[0;32m    799\u001b[0m     \u001b[0mres\u001b[0m \u001b[1;33m*=\u001b[0m \u001b[0mCM\u001b[0m \u001b[1;33m*\u001b[0m \u001b[0mT2NT\u001b[0m\u001b[1;33m\u001b[0m\u001b[0m\n\u001b[0;32m    800\u001b[0m     \u001b[1;32mreturn\u001b[0m \u001b[0mres\u001b[0m\u001b[1;33m\u001b[0m\u001b[0m\n",
      "\u001b[1;31mAttributeError\u001b[0m: 'NoneType' object has no attribute 'bz'"
     ]
    }
   ],
   "source": [
    "prism.bz(data[0][:,0], data[0][:,1], data[0][:,2], sample)"
   ]
  },
  {
   "cell_type": "code",
   "execution_count": 17,
   "metadata": {
    "collapsed": false
   },
   "outputs": [
    {
     "ename": "AttributeError",
     "evalue": "'NoneType' object has no attribute 'bz'",
     "output_type": "error",
     "traceback": [
      "\u001b[1;31m---------------------------------------------------------------------------\u001b[0m",
      "\u001b[1;31mAttributeError\u001b[0m                            Traceback (most recent call last)",
      "\u001b[1;32m<ipython-input-17-7fadd3a45a5d>\u001b[0m in \u001b[0;36m<module>\u001b[1;34m()\u001b[0m\n\u001b[0;32m      1\u001b[0m B_obs = [contaminate(f.magnetic_data(data[0][:,0], data[0][:,1], data[0][:,2], \n\u001b[1;32m----> 2\u001b[1;33m                                      sample, alpha=0, eff_area = (300., 300.)), stddev = stdev_data),\n\u001b[0m\u001b[0;32m      3\u001b[0m          contaminate(f.magnetic_data(data[1][:,0], data[1][:,1], data[1][:,2], \n\u001b[0;32m      4\u001b[0m                                      sample, alpha=1, eff_area = (300., 300.)), stddev = stdev_data),\n\u001b[0;32m      5\u001b[0m          contaminate(f.magnetic_data(data[2][:,0], data[2][:,1], data[2][:,2], \n",
      "\u001b[1;32mC:\\Users\\Vanderlei\\Documents\\magnetization-rock-sample\\code\\functions.py\u001b[0m in \u001b[0;36mmagnetic_data\u001b[1;34m(x, y, z, model, alpha, eff_area, grains)\u001b[0m\n\u001b[0;32m    105\u001b[0m \u001b[1;33m\u001b[0m\u001b[0m\n\u001b[0;32m    106\u001b[0m         \u001b[1;32mif\u001b[0m \u001b[1;33m(\u001b[0m\u001b[0malpha\u001b[0m \u001b[1;33m==\u001b[0m \u001b[1;36m0\u001b[0m\u001b[1;33m)\u001b[0m \u001b[1;32mor\u001b[0m \u001b[1;33m(\u001b[0m\u001b[0malpha\u001b[0m \u001b[1;33m==\u001b[0m \u001b[1;36m2\u001b[0m\u001b[1;33m)\u001b[0m\u001b[1;33m:\u001b[0m\u001b[1;33m\u001b[0m\u001b[0m\n\u001b[1;32m--> 107\u001b[1;33m             \u001b[0mB\u001b[0m \u001b[1;33m=\u001b[0m \u001b[0mnp\u001b[0m\u001b[1;33m.\u001b[0m\u001b[0mmean\u001b[0m\u001b[1;33m(\u001b[0m\u001b[0mnp\u001b[0m\u001b[1;33m.\u001b[0m\u001b[0mreshape\u001b[0m\u001b[1;33m(\u001b[0m\u001b[0mprism\u001b[0m\u001b[1;33m.\u001b[0m\u001b[0mbz\u001b[0m\u001b[1;33m(\u001b[0m\u001b[0mxg\u001b[0m\u001b[1;33m,\u001b[0m \u001b[0myg\u001b[0m\u001b[1;33m,\u001b[0m \u001b[0mzg\u001b[0m\u001b[1;33m,\u001b[0m \u001b[0mmodel\u001b[0m\u001b[1;33m)\u001b[0m\u001b[1;33m,\u001b[0m \u001b[1;33m(\u001b[0m\u001b[0mx\u001b[0m\u001b[1;33m.\u001b[0m\u001b[0msize\u001b[0m\u001b[1;33m,\u001b[0m \u001b[0mns\u001b[0m\u001b[1;33m*\u001b[0m\u001b[0mns\u001b[0m\u001b[1;33m)\u001b[0m\u001b[1;33m)\u001b[0m\u001b[1;33m,\u001b[0m \u001b[0maxis\u001b[0m\u001b[1;33m=\u001b[0m\u001b[1;36m1\u001b[0m\u001b[1;33m)\u001b[0m\u001b[1;33m\u001b[0m\u001b[0m\n\u001b[0m\u001b[0;32m    108\u001b[0m             \u001b[1;32mif\u001b[0m \u001b[0mgrains\u001b[0m \u001b[1;32mis\u001b[0m \u001b[1;32mnot\u001b[0m \u001b[0mNone\u001b[0m\u001b[1;33m:\u001b[0m\u001b[1;33m\u001b[0m\u001b[0m\n\u001b[0;32m    109\u001b[0m                 \u001b[0mB\u001b[0m \u001b[1;33m+=\u001b[0m \u001b[0mnp\u001b[0m\u001b[1;33m.\u001b[0m\u001b[0mmean\u001b[0m\u001b[1;33m(\u001b[0m\u001b[0mnp\u001b[0m\u001b[1;33m.\u001b[0m\u001b[0mreshape\u001b[0m\u001b[1;33m(\u001b[0m\u001b[0msphere\u001b[0m\u001b[1;33m.\u001b[0m\u001b[0mbz\u001b[0m\u001b[1;33m(\u001b[0m\u001b[0mxg\u001b[0m\u001b[1;33m,\u001b[0m \u001b[0myg\u001b[0m\u001b[1;33m,\u001b[0m \u001b[0mzg\u001b[0m\u001b[1;33m,\u001b[0m \u001b[0mgrains\u001b[0m\u001b[1;33m)\u001b[0m\u001b[1;33m,\u001b[0m \u001b[1;33m(\u001b[0m\u001b[0mx\u001b[0m\u001b[1;33m.\u001b[0m\u001b[0msize\u001b[0m\u001b[1;33m,\u001b[0m \u001b[0mns\u001b[0m\u001b[1;33m*\u001b[0m\u001b[0mns\u001b[0m\u001b[1;33m)\u001b[0m\u001b[1;33m)\u001b[0m\u001b[1;33m,\u001b[0m \u001b[0maxis\u001b[0m\u001b[1;33m=\u001b[0m\u001b[1;36m1\u001b[0m\u001b[1;33m)\u001b[0m\u001b[1;33m\u001b[0m\u001b[0m\n",
      "\u001b[1;32mC:\\Users\\Vanderlei\\Documents\\fatiando\\fatiando\\gravmag\\prism.pyc\u001b[0m in \u001b[0;36mbz\u001b[1;34m(xp, yp, zp, prisms, pmag)\u001b[0m\n\u001b[0;32m    796\u001b[0m         \u001b[0my1\u001b[0m\u001b[1;33m,\u001b[0m \u001b[0my2\u001b[0m \u001b[1;33m=\u001b[0m \u001b[0mprism\u001b[0m\u001b[1;33m.\u001b[0m\u001b[0my1\u001b[0m\u001b[1;33m,\u001b[0m \u001b[0mprism\u001b[0m\u001b[1;33m.\u001b[0m\u001b[0my2\u001b[0m\u001b[1;33m\u001b[0m\u001b[0m\n\u001b[0;32m    797\u001b[0m         \u001b[0mz1\u001b[0m\u001b[1;33m,\u001b[0m \u001b[0mz2\u001b[0m \u001b[1;33m=\u001b[0m \u001b[0mprism\u001b[0m\u001b[1;33m.\u001b[0m\u001b[0mz1\u001b[0m\u001b[1;33m,\u001b[0m \u001b[0mprism\u001b[0m\u001b[1;33m.\u001b[0m\u001b[0mz2\u001b[0m\u001b[1;33m\u001b[0m\u001b[0m\n\u001b[1;32m--> 798\u001b[1;33m         \u001b[0m_prism\u001b[0m\u001b[1;33m.\u001b[0m\u001b[0mbz\u001b[0m\u001b[1;33m(\u001b[0m\u001b[0mxp\u001b[0m\u001b[1;33m,\u001b[0m \u001b[0myp\u001b[0m\u001b[1;33m,\u001b[0m \u001b[0mzp\u001b[0m\u001b[1;33m,\u001b[0m \u001b[0mx1\u001b[0m\u001b[1;33m,\u001b[0m \u001b[0mx2\u001b[0m\u001b[1;33m,\u001b[0m \u001b[0my1\u001b[0m\u001b[1;33m,\u001b[0m \u001b[0my2\u001b[0m\u001b[1;33m,\u001b[0m \u001b[0mz1\u001b[0m\u001b[1;33m,\u001b[0m \u001b[0mz2\u001b[0m\u001b[1;33m,\u001b[0m \u001b[0mmx\u001b[0m\u001b[1;33m,\u001b[0m \u001b[0mmy\u001b[0m\u001b[1;33m,\u001b[0m \u001b[0mmz\u001b[0m\u001b[1;33m,\u001b[0m \u001b[0mres\u001b[0m\u001b[1;33m)\u001b[0m\u001b[1;33m\u001b[0m\u001b[0m\n\u001b[0m\u001b[0;32m    799\u001b[0m     \u001b[0mres\u001b[0m \u001b[1;33m*=\u001b[0m \u001b[0mCM\u001b[0m \u001b[1;33m*\u001b[0m \u001b[0mT2NT\u001b[0m\u001b[1;33m\u001b[0m\u001b[0m\n\u001b[0;32m    800\u001b[0m     \u001b[1;32mreturn\u001b[0m \u001b[0mres\u001b[0m\u001b[1;33m\u001b[0m\u001b[0m\n",
      "\u001b[1;31mAttributeError\u001b[0m: 'NoneType' object has no attribute 'bz'"
     ]
    }
   ],
   "source": [
    "B_obs = [contaminate(f.magnetic_data(data[0][:,0], data[0][:,1], data[0][:,2], \n",
    "                                     sample, alpha=0, eff_area = (300., 300.)), stddev = stdev_data),\n",
    "         contaminate(f.magnetic_data(data[1][:,0], data[1][:,1], data[1][:,2], \n",
    "                                     sample, alpha=1, eff_area = (300., 300.)), stddev = stdev_data),\n",
    "         contaminate(f.magnetic_data(data[2][:,0], data[2][:,1], data[2][:,2], \n",
    "                                     sample, alpha=2, eff_area = (300., 300.)), stddev = stdev_data),\n",
    "         contaminate(f.magnetic_data(data[3][:,0], data[3][:,1], data[3][:,2], \n",
    "                                     sample, alpha=3, eff_area = (300., 300.)), stddev = stdev_data)]"
   ]
  },
  {
   "cell_type": "markdown",
   "metadata": {},
   "source": [
    "### Interpretation model"
   ]
  },
  {
   "cell_type": "code",
   "execution_count": null,
   "metadata": {
    "collapsed": false
   },
   "outputs": [],
   "source": [
    "model = f.sample(Lx,Ly,Lz,P)"
   ]
  },
  {
   "cell_type": "code",
   "execution_count": null,
   "metadata": {
    "collapsed": false
   },
   "outputs": [],
   "source": [
    "xmin = np.min([data[0][:,0], data[1][:,0], data[2][:,0], data[3][:,0]])\n",
    "xmax = np.max([data[0][:,0], data[1][:,0], data[2][:,0], data[3][:,0]])\n",
    "ymin = np.min([data[0][:,1], data[1][:,1], data[2][:,1], data[3][:,1]])\n",
    "ymax = np.max([data[0][:,1], data[1][:,1], data[2][:,1], data[3][:,1]])\n",
    "zmin = np.min([data[0][:,2], data[1][:,2], data[2][:,2], data[3][:,2]])\n",
    "zmax = np.max([data[0][:,2], data[1][:,2], data[2][:,2], data[3][:,2]])\n",
    "\n",
    "volume = [xmin, xmax, ymin, ymax, zmin, zmax]"
   ]
  },
  {
   "cell_type": "raw",
   "metadata": {
    "collapsed": false
   },
   "source": [
    "scene = myv.figure()\n",
    "myv.prisms(model, color= (0.4,0.4,0.4))\n",
    "\n",
    "myv.points(np.vstack((data[0][:,0], data[0][:,1], data[0][:,2])).T, \n",
    "           color=(1, 0, 0), size=0.00005, opacity=1, spherical=False)\n",
    "myv.points(np.vstack((data[1][:,0], data[1][:,1], data[1][:,2])).T, \n",
    "           color=(0, 0, 1), size=0.00005, opacity=1, spherical=False)\n",
    "myv.points(np.vstack((data[2][:,0], data[2][:,1], data[2][:,2])).T, \n",
    "           color=(0, 1, 0), size=0.00005, opacity=1, spherical=False)\n",
    "myv.points(np.vstack((data[3][:,0], data[3][:,1], data[3][:,2])).T, \n",
    "           color=(0, 0, 0), size=0.00005, opacity=1, spherical=False)\n",
    "\n",
    "\n",
    "\n",
    "ax = myv.axes(myv.outline(volume), ranges=[b for b in volume], nlabels=5, fmt='%.3f')\n",
    "ax.axes.x_label, ax.axes.y_label, ax.axes.z_label = 'x (cm)', 'y (cm)', 'z (cm)'\n",
    "ax.axes.font_factor = 1.2\n",
    "myv.wall_bottom(ax.axes.bounds, opacity=0.2)\n",
    "myv.wall_north(ax.axes.bounds)\n",
    "#myv.savefig('model.png')\n",
    "myv.show()\n",
    "#Image(filename='model.png')"
   ]
  },
  {
   "cell_type": "markdown",
   "metadata": {},
   "source": [
    "### Inversion"
   ]
  },
  {
   "cell_type": "code",
   "execution_count": null,
   "metadata": {
    "collapsed": false
   },
   "outputs": [],
   "source": [
    "A = []\n",
    "for i in range(4):\n",
    "    A.append(f.sensitivity(P, data[i][:,0], data[i][:,1], data[i][:,2], model, alpha = i, eff_area = (300., 300.)))"
   ]
  },
  {
   "cell_type": "code",
   "execution_count": null,
   "metadata": {
    "collapsed": false
   },
   "outputs": [],
   "source": [
    "R = np.zeros(M+1)\n",
    "R[0] = 1.\n",
    "R[3] = -1.\n",
    "R = np.resize(R, (M-3,M))"
   ]
  },
  {
   "cell_type": "code",
   "execution_count": null,
   "metadata": {
    "collapsed": true
   },
   "outputs": [],
   "source": [
    "u0 = [0., 0., 0., 0.]\n",
    "f0 = []\n",
    "p_est = []\n",
    "mag_r = []"
   ]
  },
  {
   "cell_type": "code",
   "execution_count": null,
   "metadata": {
    "collapsed": true
   },
   "outputs": [],
   "source": [
    "for i in range(4):\n",
    "    H = np.dot(np.vstack(A[:i]).T, np.vstack(A[:i]))\n",
    "    if u0[i] != 0.:\n",
    "        f0.append(np.trace(H)/M)\n",
    "        H = H + u0[i]*f0[i]*np.dot(R.T, R)\n",
    "    h = np.dot(np.vstack(A[:i]).T, np.hstack(B_obs[:i]))\n",
    "    p_est.append(np.linalg.solve(H, h))\n",
    "    mag_r.append(f.parameters_sph(P,p_est[i]))"
   ]
  },
  {
   "cell_type": "raw",
   "metadata": {
    "collapsed": false
   },
   "source": [
    "u0 = 0."
   ]
  },
  {
   "cell_type": "raw",
   "metadata": {
    "collapsed": true
   },
   "source": [
    "H = np.dot(np.vstack(A).T, np.vstack(A))"
   ]
  },
  {
   "cell_type": "raw",
   "metadata": {
    "collapsed": false
   },
   "source": [
    "f0 = np.trace(H)/M\n",
    "f0"
   ]
  },
  {
   "cell_type": "raw",
   "metadata": {
    "collapsed": true
   },
   "source": [
    "H = H + u0*f0*np.dot(R.T, R)"
   ]
  },
  {
   "cell_type": "raw",
   "metadata": {
    "collapsed": true
   },
   "source": [
    "h = np.dot(np.vstack(A).T, np.hstack(B_obs))"
   ]
  },
  {
   "cell_type": "raw",
   "metadata": {
    "collapsed": true
   },
   "source": [
    "p_est = np.linalg.solve(H, h)"
   ]
  },
  {
   "cell_type": "raw",
   "metadata": {
    "collapsed": false
   },
   "source": [
    "mag_r = f.parameters_sph(P,p_est)"
   ]
  },
  {
   "cell_type": "code",
   "execution_count": null,
   "metadata": {
    "collapsed": true
   },
   "outputs": [],
   "source": [
    "B_pre = []\n",
    "for i in range(4):\n",
    "    B_pre.append(np.dot(A[i],p_est))"
   ]
  },
  {
   "cell_type": "code",
   "execution_count": null,
   "metadata": {
    "collapsed": true
   },
   "outputs": [],
   "source": [
    "r_norm = []\n",
    "r_mean = []\n",
    "r_std = []\n",
    "\n",
    "for i in range(4):\n",
    "    aux1,aux2,aux3 = f.residual(0.001*B_obs[i],0.001*B_pre[i])\n",
    "    r_norm.append(aux1) # in uT\n",
    "    r_mean.append(aux2) # in uT\n",
    "    r_std.append(aux3)  # in uT"
   ]
  },
  {
   "cell_type": "markdown",
   "metadata": {},
   "source": [
    "### Plotting of the observed and predicted data "
   ]
  },
  {
   "cell_type": "code",
   "execution_count": null,
   "metadata": {
    "collapsed": false
   },
   "outputs": [],
   "source": [
    "title_font = 22\n",
    "bottom_font = 16\n",
    "\n",
    "labels = ['(a)', '(b)', '(c)', \n",
    "          '(d)', '(e)', '(f)',\n",
    "          '(g)', '(h)', '(i)',\n",
    "          '(j)', '(k)', '(l)']\n",
    "\n",
    "lables_place = (0.05, 0.90)\n",
    "lables_size = 24\n",
    "\n",
    "mpl.close('all')\n",
    "mpl.figure(figsize=(20,24), tight_layout=True)\n",
    "\n",
    "for i in range(0,4,2):\n",
    "\n",
    "    # in uT\n",
    "    ranges = 0.001*np.abs([B_obs[i].max(), B_obs[i].min(),\n",
    "                           B_pre[i].max(), B_pre[i].min()]).max()\n",
    "\n",
    "    mpl.subplot(4,3,1 + 3*i)\n",
    "\n",
    "    #mpl.title(labels[3*i], fontsize=title_font)\n",
    "    nlevels = mpl.contourf(100.*data[i][:,1], 100.*data[i][:,0], 0.001*B_obs[i], \n",
    "                           shape, 20, cmap=mpl.cm.RdBu_r,\n",
    "                           vmin=-ranges, vmax=ranges)\n",
    "    #mpl.colorbar(pad=0.01, aspect=40, shrink=1.0).set_label('uT')\n",
    "    mpl.colorbar(pad=0.01, aspect=40, shrink=1.0)\n",
    "    mpl.xlabel('y (cm)', fontsize = title_font)\n",
    "    mpl.ylabel('x (cm)', fontsize = title_font)\n",
    "    mpl.annotate(labels[3*i], xy = lables_place, \n",
    "                 xycoords = 'axes fraction', fontsize=lables_size)\n",
    "\n",
    "    mpl.subplot(4,3,1 + 3*i + 1)\n",
    "\n",
    "    #mpl.title(labels[3*i + 1], fontsize=title_font)\n",
    "    nlevels = mpl.contourf(100.*data[i][:,1], 100.*data[i][:,0], 0.001*B_pre[i], \n",
    "                           shape, 20, cmap=mpl.cm.RdBu_r,\n",
    "                           vmin=-ranges, vmax=ranges)\n",
    "    #mpl.colorbar(pad=0.01, aspect=40, shrink=1.0).set_label('uT')\n",
    "    mpl.colorbar(pad=0.01, aspect=40, shrink=1.0)\n",
    "    mpl.xlabel('y (cm)', fontsize = title_font)\n",
    "    mpl.ylabel('x (cm)', fontsize = title_font)\n",
    "    mpl.annotate(labels[3*i + 1], xy = lables_place, \n",
    "                 xycoords = 'axes fraction', fontsize=lables_size)\n",
    "\n",
    "    mpl.subplot(4,3,1 + 3*i + 2)\n",
    "    #mpl.title(labels[3*i + 2], fontsize=title_font)\n",
    "    mpl.xlabel('$\\mu$ = %.3f uT | $\\sigma$ = %.3f uT' % (r_mean[i], r_std[i]), fontsize = title_font)\n",
    "    nbins = int((np.max(r_norm[i]) - np.min(r_norm[i])))\n",
    "    mpl.hist(r_norm[i],bins=nbins,normed=True)\n",
    "    mpl.ylim(0.,0.5)\n",
    "    mpl.xlim(-10., 10.)\n",
    "    mpl.annotate(labels[3*i + 2], xy = lables_place, \n",
    "                 xycoords = 'axes fraction', fontsize=lables_size)\n",
    "    \n",
    "for i in range(1,4,2):\n",
    "\n",
    "    # in uT\n",
    "    ranges = 0.001*np.abs([B_obs[i].max(), B_obs[i].min(),\n",
    "                           B_pre[i].max(), B_pre[i].min()]).max()\n",
    "\n",
    "    mpl.subplot(4,3,1 + 3*i)\n",
    "\n",
    "    #mpl.title(labels[3*i], fontsize=title_font)\n",
    "    nlevels = mpl.contourf(100.*data[i][:,2], 100.*data[i][:,0], 0.001*B_obs[i], \n",
    "                           shape, 20, cmap=mpl.cm.RdBu_r,\n",
    "                           vmin=-ranges, vmax=ranges)\n",
    "    #mpl.colorbar(pad=0.01, aspect=40, shrink=1.0).set_label('uT')\n",
    "    mpl.colorbar(pad=0.01, aspect=40, shrink=1.0)\n",
    "    mpl.xlabel('z (cm)', fontsize = title_font)\n",
    "    mpl.ylabel('x (cm)', fontsize = title_font)\n",
    "    mpl.annotate(labels[3*i], xy = lables_place, \n",
    "                 xycoords = 'axes fraction', fontsize=lables_size)\n",
    "\n",
    "    mpl.subplot(4,3,1 + 3*i + 1)\n",
    "\n",
    "    #mpl.title(labels[3*i + 1], fontsize=title_font)\n",
    "    nlevels = mpl.contourf(100.*data[i][:,2], 100.*data[i][:,0], 0.001*B_pre[i], \n",
    "                           shape, 20, cmap=mpl.cm.RdBu_r,\n",
    "                           vmin=-ranges, vmax=ranges)\n",
    "    #mpl.colorbar(pad=0.01, aspect=40, shrink=1.0).set_label('uT')\n",
    "    mpl.colorbar(pad=0.01, aspect=40, shrink=1.0)\n",
    "    mpl.xlabel('z (cm)', fontsize = title_font)\n",
    "    mpl.ylabel('x (cm)', fontsize = title_font)\n",
    "    mpl.annotate(labels[3*i+1], xy = lables_place, \n",
    "                 xycoords = 'axes fraction', fontsize=lables_size)\n",
    "\n",
    "    mpl.subplot(4,3,1 + 3*i + 2)\n",
    "    #mpl.title(labels[3*i + 2], fontsize=title_font)\n",
    "    mpl.xlabel('$\\mu$ = %.3f uT | $\\sigma$ = %.3f uT' % (r_mean[i], r_std[i]), fontsize = title_font)\n",
    "    nbins = int((np.max(r_norm[i]) - np.min(r_norm[i])))\n",
    "    mpl.hist(r_norm[i],bins=nbins,normed=True)\n",
    "    mpl.ylim(0.,0.5)\n",
    "    mpl.xlim(-10., 10.)\n",
    "    mpl.annotate(labels[3*i+2], xy = lables_place, \n",
    "                 xycoords = 'axes fraction', fontsize=lables_size)\n",
    "\n",
    "mpl.savefig('..\\\\manuscript\\\\Figs\\\\Fig5_HQ.eps')\n",
    "mpl.savefig('..\\\\manuscript\\\\Figs\\\\Fig5_LQ.png')\n",
    "\n",
    "mpl.show()"
   ]
  },
  {
   "cell_type": "code",
   "execution_count": null,
   "metadata": {
    "collapsed": false
   },
   "outputs": [],
   "source": [
    "mpl.figure(figsize=(8,8))\n",
    "ax = mpl.subplot(111, polar=True)\n",
    "ax.set_theta_direction(-1) \n",
    "ax.set_theta_zero_location('N') \n",
    "ax.set_rgrids([0.2,0.4,0.6,0.8], angle=90.)\n",
    "\n",
    "f.proj_polar(4,mag_true[:4,:],color='r',simbolo='D',size=16)\n",
    "f.proj_polar(4,mag_true[4:8,:],color='g',simbolo='s',size=16)\n",
    "f.proj_polar(4,mag_true[8:12,:],color='b',simbolo='D',size=16)\n",
    "f.proj_polar(4,mag_true[12:16,:],color='k',simbolo='s',size=16)\n",
    "\n",
    "f.proj_polar(4,mag_r[3][:4,:],color='r',size=10)\n",
    "f.proj_polar(4,mag_r[3][4:8,:],color='g',size=10)\n",
    "f.proj_polar(4,mag_r[3][8:12,:],color='b',size=10)\n",
    "f.proj_polar(4,mag_r[3][12:16,:],color='k',size=10)\n",
    "\n",
    "mpl.xticks(fontsize=20) \n",
    "mpl.yticks(fontsize=14) \n",
    "mpl.ylim(0.0, 1.0)\n",
    "#mpl.savefig('estimate_polar_simul_validation.png')\n",
    "mpl.show() "
   ]
  },
  {
   "cell_type": "code",
   "execution_count": null,
   "metadata": {
    "collapsed": false
   },
   "outputs": [],
   "source": [
    "mpl.figure(figsize=(12,12))\n",
    "\n",
    "ax = mpl.subplot(221, polar=True)\n",
    "ax.set_theta_direction(-1) \n",
    "ax.set_theta_zero_location('N') \n",
    "ax.set_rgrids([0.2,0.4,0.6,0.8,1.0], angle=90.)\n",
    "f.proj_polar(4,mag_true[:4,:],color='r',simbolo='D',size=16)\n",
    "f.proj_polar(4,mag_r[3][:4,:],color='b',size=10)\n",
    "\n",
    "mpl.xticks(fontsize=16) \n",
    "mpl.yticks(fontsize=14) \n",
    "mpl.ylim(0.0, 1.2)\n",
    "\n",
    "ax = mpl.subplot(222, polar=True)\n",
    "ax.set_theta_direction(-1) \n",
    "ax.set_theta_zero_location('N') \n",
    "ax.set_rgrids([0.2,0.4,0.6,0.8,1.0], angle=90.)\n",
    "\n",
    "f.proj_polar(4,mag_true[4:8,:],color='r',simbolo='s',size=16)\n",
    "f.proj_polar(4,mag_r[3][4:8,:],color='b',size=10)\n",
    "\n",
    "mpl.xticks(fontsize=16) \n",
    "mpl.yticks(fontsize=14) \n",
    "mpl.ylim(0.0, 1.2)\n",
    "\n",
    "ax = mpl.subplot(223, polar=True)\n",
    "ax.set_theta_direction(-1) \n",
    "ax.set_theta_zero_location('N') \n",
    "ax.set_rgrids([0.2,0.4,0.6,0.8,1.0], angle=90.)\n",
    "\n",
    "f.proj_polar(4,mag_true[8:12,:],color='r',simbolo='D',size=16)\n",
    "f.proj_polar(4,mag_r[3][8:12,:],color='b',size=10)\n",
    "\n",
    "mpl.xticks(fontsize=16) \n",
    "mpl.yticks(fontsize=14) \n",
    "mpl.ylim(0.0, 1.2)\n",
    "\n",
    "ax = mpl.subplot(224, polar=True)\n",
    "ax.set_theta_direction(-1) \n",
    "ax.set_theta_zero_location('N') \n",
    "ax.set_rgrids([0.2,0.4,0.6,0.8,1.0], angle=90.)\n",
    "\n",
    "f.proj_polar(4,mag_true[12:16,:],color='r',simbolo='s',size=16)\n",
    "f.proj_polar(4,mag_r[3][12:16,:],color='b',size=10)\n",
    "\n",
    "mpl.xticks(fontsize=16) \n",
    "mpl.yticks(fontsize=14) \n",
    "mpl.ylim(0.0, 1.2)\n",
    "\n",
    "mpl.tight_layout(w_pad=5.)\n",
    "\n",
    "#mpl.savefig('estimate_polar_simul.png')\n",
    "\n",
    "mpl.show() "
   ]
  },
  {
   "cell_type": "code",
   "execution_count": null,
   "metadata": {
    "collapsed": false
   },
   "outputs": [],
   "source": [
    "label_font = 20\n",
    "legend_font = 16\n",
    "\n",
    "labels = ['(a)', '(b)', '(c)']\n",
    "\n",
    "lables_place = (0.03, 0.90)\n",
    "lables_size = 24\n",
    "\n",
    "mpl.show()\n",
    "mpl.close('all')\n",
    "mpl.figure(figsize=(8, 16), tight_layout=True)\n",
    "\n",
    "mpl.subplot(3,1,1)\n",
    "#mpl.plot([np.min(centers), np.max(centers)], [1200.0, 1200.0], 'k--',\n",
    "#         label='Saturation magnetization')\n",
    "mpl.plot(centers, mag_true[:,0], 'r-', linewidth=2)\n",
    "mpl.plot(centers, mag_true[:,0], 'ro', markersize=10, label='True')\n",
    "mpl.plot(centers, mag_r[3][:,0], 'b--', linewidth=2)\n",
    "mpl.plot(centers, mag_r[3][:,0], 'bo', markersize=10,label='Estimated')\n",
    "mpl.ylabel('Intensity ($A/m$)', fontsize=label_font)\n",
    "mpl.ylim(0., np.max(mag_r[:,0]) + 50.)\n",
    "#mpl.legend(loc='best', numpoints=1)\n",
    "mpl.annotate(labels[0], xy = lables_place, \n",
    "                 xycoords = 'axes fraction', fontsize=lables_size)\n",
    "\n",
    "mpl.subplot(3,1,2)\n",
    "mpl.plot([np.min(centers), np.max(centers)], [0.0, 0.0], 'k--')\n",
    "#mpl.plot([np.min(centers), np.max(centers)], [45.0, 45.0], 'k--')\n",
    "#mpl.plot([np.min(centers), np.max(centers)], [90.0, 90.0], 'k--')\n",
    "#mpl.plot([np.min(centers), np.max(centers)], [-90.0, -90.0], 'k--')\n",
    "mpl.plot(centers, mag_true[:,1], 'r-', linewidth=2)\n",
    "mpl.plot(centers, mag_true[:,1], 'ro', markersize=10, label='True')\n",
    "\n",
    "for mr in range(4):\n",
    "    mpl.plot(centers, mr[:,1], 'b--', linewidth=2)\n",
    "    mpl.plot(centers, mr[:,1], 'bo', markersize=10, label='Estimated')\n",
    "\n",
    "\n",
    "mpl.ylabel('Inclination ($^{\\circ}$)', fontsize=label_font)\n",
    "mpl.ylim(np.min(mag_r[:,1]) - 20., np.max(mag_r[:,1]) + 20.)\n",
    "#mpl.legend(loc='best', numpoints=1)\n",
    "mpl.annotate(labels[1], xy = lables_place, \n",
    "                 xycoords = 'axes fraction', fontsize=lables_size)\n",
    "\n",
    "mpl.subplot(3,1,3)\n",
    "mpl.plot([np.min(centers), np.max(centers)], [0.0, 0.0], 'k--')\n",
    "#mpl.plot([np.min(centers), np.max(centers)], [180.0, 180.0], 'k--')\n",
    "mpl.plot(centers, mag_true[:,2], 'r-', linewidth=2)\n",
    "mpl.plot(centers, mag_true[:,2], 'ro', markersize=10, label='True')\n",
    "mpl.plot(centers, mag_r[:,2], 'b--', linewidth=2)\n",
    "mpl.plot(centers, mag_r[:,2], 'bo', markersize=10, label='Estimated')\n",
    "mpl.ylabel('Declination ($^{\\circ}$)', fontsize=label_font)\n",
    "#mpl.xlabel('Sample length ($cm$)', fontsize=label_font)\n",
    "mpl.xlabel('$x$ ($cm$)', fontsize=label_font)\n",
    "mpl.ylim(np.min(mag_r[:,2]) - 20., np.max(mag_r[:,2]) + 20.)\n",
    "#mpl.savefig('estimate_int_inc_dec_simul_validation.eps')\n",
    "#mpl.legend(loc='best', numpoints=1)\n",
    "mpl.annotate(labels[2], xy = (0.90, 0.90), \n",
    "                 xycoords = 'axes fraction', fontsize=lables_size)\n",
    "\n",
    "mpl.savefig('..\\\\manuscript\\\\Figs\\\\Fig6_HQ.eps')\n",
    "mpl.savefig('..\\\\manuscript\\\\Figs\\\\Fig6_LQ.png')\n",
    "\n",
    "mpl.show()"
   ]
  },
  {
   "cell_type": "code",
   "execution_count": null,
   "metadata": {
    "collapsed": true
   },
   "outputs": [],
   "source": []
  }
 ],
 "metadata": {
  "kernelspec": {
   "display_name": "Python 2",
   "language": "python",
   "name": "python2"
  },
  "language_info": {
   "codemirror_mode": {
    "name": "ipython",
    "version": 2
   },
   "file_extension": ".py",
   "mimetype": "text/x-python",
   "name": "python",
   "nbconvert_exporter": "python",
   "pygments_lexer": "ipython2",
   "version": "2.7.11"
  }
 },
 "nbformat": 4,
 "nbformat_minor": 0
}
