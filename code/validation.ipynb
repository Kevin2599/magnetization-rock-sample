{
 "cells": [
  {
   "cell_type": "markdown",
   "metadata": {},
   "source": [
    "# 3.1.1. Validation test"
   ]
  },
  {
   "cell_type": "markdown",
   "metadata": {},
   "source": [
    "This code generates all the results presented in the subsubsection 3.1.1 Validation test."
   ]
  },
  {
   "cell_type": "markdown",
   "metadata": {},
   "source": [
    "### License\n",
    "\n",
    "This code is licensed under under the [BSD 3-clause](http://choosealicense.com/licenses/bsd-3-clause/) license. See the file `LICENSE.md`"
   ]
  },
  {
   "cell_type": "markdown",
   "metadata": {},
   "source": [
    "### Import the required dependencies"
   ]
  },
  {
   "cell_type": "code",
   "execution_count": 1,
   "metadata": {
    "collapsed": true
   },
   "outputs": [],
   "source": [
    "%matplotlib inline"
   ]
  },
  {
   "cell_type": "code",
   "execution_count": 2,
   "metadata": {
    "collapsed": false
   },
   "outputs": [],
   "source": [
    "import numpy as np\n",
    "from IPython.display import Image\n",
    "from fatiando.vis import mpl, myv\n",
    "from fatiando.gravmag import prism, sphere\n",
    "from fatiando.utils import contaminate\n",
    "import fatiando"
   ]
  },
  {
   "cell_type": "code",
   "execution_count": 3,
   "metadata": {
    "collapsed": false
   },
   "outputs": [
    {
     "data": {
      "text/plain": [
       "'unknown'"
      ]
     },
     "execution_count": 3,
     "metadata": {},
     "output_type": "execute_result"
    }
   ],
   "source": [
    "fatiando.__version__"
   ]
  },
  {
   "cell_type": "code",
   "execution_count": null,
   "metadata": {
    "collapsed": false
   },
   "outputs": [],
   "source": [
    "mpl.rcParams['font.size'] = 16"
   ]
  },
  {
   "cell_type": "code",
   "execution_count": null,
   "metadata": {
    "collapsed": true
   },
   "outputs": [],
   "source": [
    "import functions as f"
   ]
  },
  {
   "cell_type": "markdown",
   "metadata": {},
   "source": [
    "### Load data from txt files"
   ]
  },
  {
   "cell_type": "markdown",
   "metadata": {},
   "source": [
    "These data are the output of the application to real data."
   ]
  },
  {
   "cell_type": "code",
   "execution_count": null,
   "metadata": {
    "collapsed": true
   },
   "outputs": [],
   "source": [
    "files = ['..\\\\data\\\\data0.txt', \n",
    "         '..\\\\data\\\\data1.txt',\n",
    "         '..\\\\data\\\\data2.txt',\n",
    "         '..\\\\data\\\\data3.txt']\n",
    "\n",
    "nfiles = len(files)"
   ]
  },
  {
   "cell_type": "code",
   "execution_count": null,
   "metadata": {
    "collapsed": true
   },
   "outputs": [],
   "source": [
    "data = []\n",
    "\n",
    "for i in range(nfiles):\n",
    "    data.append(np.loadtxt(files[i]))"
   ]
  },
  {
   "cell_type": "code",
   "execution_count": null,
   "metadata": {
    "collapsed": false
   },
   "outputs": [],
   "source": [
    "mag_true = np.loadtxt('..\\\\data\\\\estimate_real.txt')"
   ]
  },
  {
   "cell_type": "code",
   "execution_count": null,
   "metadata": {
    "collapsed": false
   },
   "outputs": [],
   "source": [
    "mag_true"
   ]
  },
  {
   "cell_type": "markdown",
   "metadata": {},
   "source": [
    "Here, the estimated magnetization obtained with real data is modified in order to simulate an observed data set. Only the estimated inclination and declination are modified."
   ]
  },
  {
   "cell_type": "code",
   "execution_count": null,
   "metadata": {
    "collapsed": true
   },
   "outputs": [],
   "source": [
    "mean_inc0 = np.mean(mag_true[1:4,1])\n",
    "mean_inc1 = np.mean(mag_true[5:8,1])\n",
    "mean_inc2 = np.mean(mag_true[9:12,1])\n",
    "mean_inc3 = np.mean(mag_true[13:16,1])\n",
    "\n",
    "mean_dec0 = np.mean(mag_true[1:4,2])\n",
    "mean_dec1 = np.mean(mag_true[5:8,2])\n",
    "mean_dec2 = np.mean(mag_true[9:12,2])\n",
    "mean_dec3 = np.mean(mag_true[13:16,2])"
   ]
  },
  {
   "cell_type": "code",
   "execution_count": null,
   "metadata": {
    "collapsed": true
   },
   "outputs": [],
   "source": [
    "mag_true[0:4,1] = mean_inc0\n",
    "mag_true[4:8,1] = mean_inc1\n",
    "mag_true[8:12,1] = mean_inc2\n",
    "mag_true[12:16,1] = mean_inc3"
   ]
  },
  {
   "cell_type": "code",
   "execution_count": null,
   "metadata": {
    "collapsed": true
   },
   "outputs": [],
   "source": [
    "mag_true[0:4,2] = mean_dec0\n",
    "mag_true[4:8,2] = mean_dec1\n",
    "mag_true[8:12,2] = mean_dec2\n",
    "mag_true[12:16,2] = mean_dec3"
   ]
  },
  {
   "cell_type": "code",
   "execution_count": null,
   "metadata": {
    "collapsed": false
   },
   "outputs": [],
   "source": [
    "mag_true"
   ]
  },
  {
   "cell_type": "markdown",
   "metadata": {},
   "source": [
    "### Parameters of the sample"
   ]
  },
  {
   "cell_type": "code",
   "execution_count": null,
   "metadata": {
    "collapsed": true
   },
   "outputs": [],
   "source": [
    "P = 16 # number of prisms forming the sample\n",
    "M = 3*P # number of parameters to be estimated\n",
    "\n",
    "Lx = 0.001 # in m\n",
    "Ly = 0.003 # in m\n",
    "Lz = Ly  # in m\n",
    "\n",
    "shape = (42,102) # (Ny, Nx)"
   ]
  },
  {
   "cell_type": "code",
   "execution_count": null,
   "metadata": {
    "collapsed": false
   },
   "outputs": [],
   "source": [
    "xmin_sample = -0.5*Lx*P #in m\n",
    "centers = [100.*(xmin_sample + 0.5*Lx + i*Lx) for i in range(P)] #in cm"
   ]
  },
  {
   "cell_type": "markdown",
   "metadata": {},
   "source": [
    "### Synthetic Sample"
   ]
  },
  {
   "cell_type": "code",
   "execution_count": null,
   "metadata": {
    "collapsed": false
   },
   "outputs": [],
   "source": [
    "sample = f.sample(Lx,Ly,Lz,P, m = mag_true[:,0], inc = mag_true[:,1], dec = mag_true[:,2])"
   ]
  },
  {
   "cell_type": "markdown",
   "metadata": {},
   "source": [
    "### Synthetic data"
   ]
  },
  {
   "cell_type": "markdown",
   "metadata": {},
   "source": [
    "The cell below introduces "
   ]
  },
  {
   "cell_type": "code",
   "execution_count": null,
   "metadata": {
    "collapsed": true
   },
   "outputs": [],
   "source": [
    "# Simulate a Gaussian noise with null mean\n",
    "stdev_data = 30000.0 # nT"
   ]
  },
  {
   "cell_type": "code",
   "execution_count": null,
   "metadata": {
    "collapsed": false
   },
   "outputs": [],
   "source": [
    "B_obs = [contaminate(f.magnetic_data(data[0][:,0], data[0][:,1], data[0][:,2], \n",
    "                                     sample, alpha=0, eff_area = (300., 300.)), stddev = stdev_data),\n",
    "         contaminate(f.magnetic_data(data[1][:,0], data[1][:,1], data[1][:,2], \n",
    "                                     sample, alpha=1, eff_area = (300., 300.)), stddev = stdev_data),\n",
    "         contaminate(f.magnetic_data(data[2][:,0], data[2][:,1], data[2][:,2], \n",
    "                                     sample, alpha=2, eff_area = (300., 300.)), stddev = stdev_data),\n",
    "         contaminate(f.magnetic_data(data[3][:,0], data[3][:,1], data[3][:,2], \n",
    "                                     sample, alpha=3, eff_area = (300., 300.)), stddev = stdev_data)]"
   ]
  },
  {
   "cell_type": "markdown",
   "metadata": {},
   "source": [
    "### Interpretation model"
   ]
  },
  {
   "cell_type": "code",
   "execution_count": null,
   "metadata": {
    "collapsed": false
   },
   "outputs": [],
   "source": [
    "model = f.sample(Lx,Ly,Lz,P)"
   ]
  },
  {
   "cell_type": "code",
   "execution_count": null,
   "metadata": {
    "collapsed": false
   },
   "outputs": [],
   "source": [
    "xmin = np.min([data[0][:,0], data[1][:,0], data[2][:,0], data[3][:,0]])\n",
    "xmax = np.max([data[0][:,0], data[1][:,0], data[2][:,0], data[3][:,0]])\n",
    "ymin = np.min([data[0][:,1], data[1][:,1], data[2][:,1], data[3][:,1]])\n",
    "ymax = np.max([data[0][:,1], data[1][:,1], data[2][:,1], data[3][:,1]])\n",
    "zmin = np.min([data[0][:,2], data[1][:,2], data[2][:,2], data[3][:,2]])\n",
    "zmax = np.max([data[0][:,2], data[1][:,2], data[2][:,2], data[3][:,2]])\n",
    "\n",
    "volume = [xmin, xmax, ymin, ymax, zmin, zmax]"
   ]
  },
  {
   "cell_type": "raw",
   "metadata": {
    "collapsed": false
   },
   "source": [
    "scene = myv.figure()\n",
    "myv.prisms(model, color= (0.4,0.4,0.4))\n",
    "\n",
    "myv.points(np.vstack((data[0][:,0], data[0][:,1], data[0][:,2])).T, \n",
    "           color=(1, 0, 0), size=0.00005, opacity=1, spherical=False)\n",
    "myv.points(np.vstack((data[1][:,0], data[1][:,1], data[1][:,2])).T, \n",
    "           color=(0, 0, 1), size=0.00005, opacity=1, spherical=False)\n",
    "myv.points(np.vstack((data[2][:,0], data[2][:,1], data[2][:,2])).T, \n",
    "           color=(0, 1, 0), size=0.00005, opacity=1, spherical=False)\n",
    "myv.points(np.vstack((data[3][:,0], data[3][:,1], data[3][:,2])).T, \n",
    "           color=(0, 0, 0), size=0.00005, opacity=1, spherical=False)\n",
    "\n",
    "\n",
    "\n",
    "ax = myv.axes(myv.outline(volume), ranges=[b for b in volume], nlabels=5, fmt='%.3f')\n",
    "ax.axes.x_label, ax.axes.y_label, ax.axes.z_label = 'x (cm)', 'y (cm)', 'z (cm)'\n",
    "ax.axes.font_factor = 1.2\n",
    "myv.wall_bottom(ax.axes.bounds, opacity=0.2)\n",
    "myv.wall_north(ax.axes.bounds)\n",
    "#myv.savefig('model.png')\n",
    "myv.show()\n",
    "#Image(filename='model.png')"
   ]
  },
  {
   "cell_type": "markdown",
   "metadata": {},
   "source": [
    "### Inversion"
   ]
  },
  {
   "cell_type": "code",
   "execution_count": null,
   "metadata": {
    "collapsed": false
   },
   "outputs": [],
   "source": [
    "A = []\n",
    "for i in range(4):\n",
    "    A.append(f.sensitivity(P, data[i][:,0], data[i][:,1], data[i][:,2], model, alpha = i, eff_area = (300., 300.)))"
   ]
  },
  {
   "cell_type": "code",
   "execution_count": null,
   "metadata": {
    "collapsed": false
   },
   "outputs": [],
   "source": [
    "R = np.zeros(M+1)\n",
    "R[0] = 1.\n",
    "R[3] = -1.\n",
    "R = np.resize(R, (M-3,M))"
   ]
  },
  {
   "cell_type": "code",
   "execution_count": null,
   "metadata": {
    "collapsed": false
   },
   "outputs": [],
   "source": [
    "u0 = [1.0e-10, 1.0e-10, 1.0e-10, 1.0e-10]\n",
    "f0 = []\n",
    "p_est = []\n",
    "mag_r = []\n",
    "\n",
    "H = np.dot(A[0].T, A[0])\n",
    "if u0[0] != 0.:\n",
    "    f0.append(np.trace(H)/M)\n",
    "    H = H + u0[0]*f0[0]*np.dot(R.T, R)\n",
    "h = np.dot(A[0].T, B_obs[0])\n",
    "p_est.append(np.linalg.solve(H, h))\n",
    "mag_r.append(f.parameters_sph(P,p_est[0]))\n",
    "\n",
    "for i in range(1,4):\n",
    "    H = np.dot(np.vstack(A[:i]).T, np.vstack(A[:i]))\n",
    "    if u0[i] != 0.:\n",
    "        f0.append(np.trace(H)/M)\n",
    "        H = H + u0[i]*f0[i]*np.dot(R.T, R)\n",
    "    h = np.dot(np.vstack(A[:i]).T, np.hstack(B_obs[:i]))\n",
    "    p_est.append(np.linalg.solve(H, h))\n",
    "    mag_r.append(f.parameters_sph(P,p_est[i]))\n",
    "\n",
    "mag_r = np.array(mag_r)"
   ]
  },
  {
   "cell_type": "code",
   "execution_count": null,
   "metadata": {
    "collapsed": false
   },
   "outputs": [],
   "source": [
    "B_pre = []\n",
    "for i in range(4):\n",
    "    B_pre.append(np.dot(A[i],p_est[3]))"
   ]
  },
  {
   "cell_type": "code",
   "execution_count": null,
   "metadata": {
    "collapsed": true
   },
   "outputs": [],
   "source": [
    "r_norm = []\n",
    "r_mean = []\n",
    "r_std = []\n",
    "\n",
    "for i in range(4):\n",
    "    aux1,aux2,aux3 = f.residual(0.001*B_obs[i],0.001*B_pre[i])\n",
    "    r_norm.append(aux1) # in uT\n",
    "    r_mean.append(aux2) # in uT\n",
    "    r_std.append(aux3)  # in uT"
   ]
  },
  {
   "cell_type": "markdown",
   "metadata": {},
   "source": [
    "### Plotting of the observed and predicted data "
   ]
  },
  {
   "cell_type": "code",
   "execution_count": null,
   "metadata": {
    "collapsed": false
   },
   "outputs": [],
   "source": [
    "title_font = 22\n",
    "bottom_font = 16\n",
    "\n",
    "labels = ['(a)', '(b)', '(c)', \n",
    "          '(d)', '(e)', '(f)',\n",
    "          '(g)', '(h)', '(i)',\n",
    "          '(j)', '(k)', '(l)']\n",
    "\n",
    "lables_place = (0.05, 0.90)\n",
    "lables_size = 24\n",
    "\n",
    "mpl.close('all')\n",
    "mpl.figure(figsize=(20,24), tight_layout=True)\n",
    "\n",
    "for i in range(0,4,2):\n",
    "\n",
    "    # in uT\n",
    "    ranges = 0.001*np.abs([B_obs[i].max(), B_obs[i].min(),\n",
    "                           B_pre[i].max(), B_pre[i].min()]).max()\n",
    "\n",
    "    mpl.subplot(4,3,1 + 3*i)\n",
    "\n",
    "    #mpl.title(labels[3*i], fontsize=title_font)\n",
    "    nlevels = mpl.contourf(100.*data[i][:,1], 100.*data[i][:,0], 0.001*B_obs[i], \n",
    "                           shape, 20, cmap=mpl.cm.RdBu_r,\n",
    "                           vmin=-ranges, vmax=ranges)\n",
    "    #mpl.colorbar(pad=0.01, aspect=40, shrink=1.0).set_label('uT')\n",
    "    mpl.colorbar(pad=0.01, aspect=40, shrink=1.0)\n",
    "    mpl.xlabel('y (cm)', fontsize = title_font)\n",
    "    mpl.ylabel('x (cm)', fontsize = title_font)\n",
    "    mpl.annotate(labels[3*i], xy = lables_place, \n",
    "                 xycoords = 'axes fraction', fontsize=lables_size)\n",
    "\n",
    "    mpl.subplot(4,3,1 + 3*i + 1)\n",
    "\n",
    "    #mpl.title(labels[3*i + 1], fontsize=title_font)\n",
    "    nlevels = mpl.contourf(100.*data[i][:,1], 100.*data[i][:,0], 0.001*B_pre[i], \n",
    "                           shape, 20, cmap=mpl.cm.RdBu_r,\n",
    "                           vmin=-ranges, vmax=ranges)\n",
    "    #mpl.colorbar(pad=0.01, aspect=40, shrink=1.0).set_label('uT')\n",
    "    mpl.colorbar(pad=0.01, aspect=40, shrink=1.0)\n",
    "    mpl.xlabel('y (cm)', fontsize = title_font)\n",
    "    mpl.ylabel('x (cm)', fontsize = title_font)\n",
    "    mpl.annotate(labels[3*i + 1], xy = lables_place, \n",
    "                 xycoords = 'axes fraction', fontsize=lables_size)\n",
    "\n",
    "    mpl.subplot(4,3,1 + 3*i + 2)\n",
    "    #mpl.title(labels[3*i + 2], fontsize=title_font)\n",
    "    mpl.xlabel('$\\mu$ = %.3f uT | $\\sigma$ = %.3f uT' % (r_mean[i], r_std[i]), fontsize = title_font)\n",
    "    nbins = int((np.max(r_norm[i]) - np.min(r_norm[i])))\n",
    "    mpl.hist(r_norm[i],bins=nbins,normed=True)\n",
    "    mpl.ylim(0.,0.5)\n",
    "    mpl.xlim(-10., 10.)\n",
    "    mpl.annotate(labels[3*i + 2], xy = lables_place, \n",
    "                 xycoords = 'axes fraction', fontsize=lables_size)\n",
    "    \n",
    "for i in range(1,4,2):\n",
    "\n",
    "    # in uT\n",
    "    ranges = 0.001*np.abs([B_obs[i].max(), B_obs[i].min(),\n",
    "                           B_pre[i].max(), B_pre[i].min()]).max()\n",
    "\n",
    "    mpl.subplot(4,3,1 + 3*i)\n",
    "\n",
    "    #mpl.title(labels[3*i], fontsize=title_font)\n",
    "    nlevels = mpl.contourf(100.*data[i][:,2], 100.*data[i][:,0], 0.001*B_obs[i], \n",
    "                           shape, 20, cmap=mpl.cm.RdBu_r,\n",
    "                           vmin=-ranges, vmax=ranges)\n",
    "    #mpl.colorbar(pad=0.01, aspect=40, shrink=1.0).set_label('uT')\n",
    "    mpl.colorbar(pad=0.01, aspect=40, shrink=1.0)\n",
    "    mpl.xlabel('z (cm)', fontsize = title_font)\n",
    "    mpl.ylabel('x (cm)', fontsize = title_font)\n",
    "    mpl.annotate(labels[3*i], xy = lables_place, \n",
    "                 xycoords = 'axes fraction', fontsize=lables_size)\n",
    "\n",
    "    mpl.subplot(4,3,1 + 3*i + 1)\n",
    "\n",
    "    #mpl.title(labels[3*i + 1], fontsize=title_font)\n",
    "    nlevels = mpl.contourf(100.*data[i][:,2], 100.*data[i][:,0], 0.001*B_pre[i], \n",
    "                           shape, 20, cmap=mpl.cm.RdBu_r,\n",
    "                           vmin=-ranges, vmax=ranges)\n",
    "    #mpl.colorbar(pad=0.01, aspect=40, shrink=1.0).set_label('uT')\n",
    "    mpl.colorbar(pad=0.01, aspect=40, shrink=1.0)\n",
    "    mpl.xlabel('z (cm)', fontsize = title_font)\n",
    "    mpl.ylabel('x (cm)', fontsize = title_font)\n",
    "    mpl.annotate(labels[3*i+1], xy = lables_place, \n",
    "                 xycoords = 'axes fraction', fontsize=lables_size)\n",
    "\n",
    "    mpl.subplot(4,3,1 + 3*i + 2)\n",
    "    #mpl.title(labels[3*i + 2], fontsize=title_font)\n",
    "    mpl.xlabel('$\\mu$ = %.3f uT | $\\sigma$ = %.3f uT' % (r_mean[i], r_std[i]), fontsize = title_font)\n",
    "    nbins = int((np.max(r_norm[i]) - np.min(r_norm[i])))\n",
    "    mpl.hist(r_norm[i],bins=nbins,normed=True)\n",
    "    mpl.ylim(0.,0.5)\n",
    "    mpl.xlim(-10., 10.)\n",
    "    mpl.annotate(labels[3*i+2], xy = lables_place, \n",
    "                 xycoords = 'axes fraction', fontsize=lables_size)\n",
    "\n",
    "mpl.savefig('..\\\\manuscript\\\\Figs\\\\Fig5_HQ.eps')\n",
    "mpl.savefig('..\\\\manuscript\\\\Figs\\\\Fig5_LQ.png')\n",
    "\n",
    "mpl.show()"
   ]
  },
  {
   "cell_type": "code",
   "execution_count": null,
   "metadata": {
    "collapsed": false
   },
   "outputs": [],
   "source": [
    "line_sty = ['b--', 'b--', 'b--', 'k--']\n",
    "mark_sty = ['bo', 'bo', 'bo', 'ko']\n",
    "\n",
    "label_font = 20\n",
    "legend_font = 16\n",
    "\n",
    "labels = ['(a)', '(b)', '(c)']\n",
    "\n",
    "lables_place = (0.03, 0.90)\n",
    "lables_size = 24\n",
    "\n",
    "mpl.show()\n",
    "mpl.close('all')\n",
    "mpl.figure(figsize=(8, 16), tight_layout=True)\n",
    "\n",
    "mpl.subplot(3,1,1)\n",
    "#mpl.plot([np.min(centers), np.max(centers)], [1200.0, 1200.0], 'k--',\n",
    "#         label='Saturation magnetization')\n",
    "mpl.plot(centers, mag_true[:,0], 'r-', linewidth=2)\n",
    "mpl.plot(centers, mag_true[:,0], 'ro', markersize=10, label='True')\n",
    "\n",
    "for i, mr in enumerate(mag_r):\n",
    "    mpl.plot(centers, mr[:,0], line_sty[i], alpha=0.1+i*0.3, linewidth=2)\n",
    "    mpl.plot(centers, mr[:,0], mark_sty[i], alpha=0.1+i*0.3, markersize=7,label='Estimated')\n",
    "\n",
    "mpl.ylabel('Intensity ($A/m$)', fontsize=label_font)\n",
    "mpl.ylim(0., np.max(mag_r[:,:,0]) + 50.)\n",
    "#mpl.legend(loc='best', numpoints=1)\n",
    "mpl.annotate(labels[0], xy = lables_place, \n",
    "                 xycoords = 'axes fraction', fontsize=lables_size)\n",
    "\n",
    "mpl.subplot(3,1,2)\n",
    "mpl.plot([np.min(centers), np.max(centers)], [0.0, 0.0], 'k--')\n",
    "#mpl.plot([np.min(centers), np.max(centers)], [45.0, 45.0], 'k--')\n",
    "#mpl.plot([np.min(centers), np.max(centers)], [90.0, 90.0], 'k--')\n",
    "#mpl.plot([np.min(centers), np.max(centers)], [-90.0, -90.0], 'k--')\n",
    "mpl.plot(centers, mag_true[:,1], 'r-', linewidth=2)\n",
    "mpl.plot(centers, mag_true[:,1], 'ro', markersize=10, label='True')\n",
    "\n",
    "for i, mr in enumerate(mag_r):\n",
    "    mpl.plot(centers, mr[:,1], line_sty[i], alpha=0.1+i*0.3, linewidth=2)\n",
    "    mpl.plot(centers, mr[:,1], mark_sty[i], alpha=0.1+i*0.3, markersize=7,label='Estimated')\n",
    "\n",
    "mpl.ylabel('Inclination ($^{\\circ}$)', fontsize=label_font)\n",
    "mpl.ylim(np.min(mag_r[:,:,1]) - 20., np.max(mag_r[:,:,1]) + 20.)\n",
    "#mpl.legend(loc='best', numpoints=1)\n",
    "mpl.annotate(labels[1], xy = lables_place, \n",
    "                 xycoords = 'axes fraction', fontsize=lables_size)\n",
    "\n",
    "mpl.subplot(3,1,3)\n",
    "mpl.plot([np.min(centers), np.max(centers)], [0.0, 0.0], 'k--')\n",
    "#mpl.plot([np.min(centers), np.max(centers)], [180.0, 180.0], 'k--')\n",
    "mpl.plot(centers, mag_true[:,2], 'r-', linewidth=2)\n",
    "mpl.plot(centers, mag_true[:,2], 'ro', markersize=10, label='True')\n",
    "\n",
    "for i, mr in enumerate(mag_r):\n",
    "    mpl.plot(centers, mr[:,2], line_sty[i], alpha=0.3+i*0.3, linewidth=2)\n",
    "    mpl.plot(centers, mr[:,2], mark_sty[i], alpha=0.3+i*0.3, markersize=7,label='Estimated')\n",
    "\n",
    "mpl.ylabel('Declination ($^{\\circ}$)', fontsize=label_font)\n",
    "#mpl.xlabel('Sample length ($cm$)', fontsize=label_font)\n",
    "mpl.xlabel('$x$ ($cm$)', fontsize=label_font)\n",
    "mpl.ylim(np.min(mag_r[:,:,2]) - 20., np.max(mag_r[:,:,2]) + 20.)\n",
    "#mpl.savefig('estimate_int_inc_dec_simul_validation.eps')\n",
    "#mpl.legend(loc='best', numpoints=1)\n",
    "mpl.annotate(labels[2], xy = (0.90, 0.05), \n",
    "                 xycoords = 'axes fraction', fontsize=lables_size)\n",
    "\n",
    "mpl.savefig('..\\\\manuscript\\\\Figs\\\\Fig6_HQ.eps')\n",
    "mpl.savefig('..\\\\manuscript\\\\Figs\\\\Fig6_LQ.png')\n",
    "\n",
    "mpl.show()"
   ]
  },
  {
   "cell_type": "code",
   "execution_count": null,
   "metadata": {
    "collapsed": true
   },
   "outputs": [],
   "source": []
  }
 ],
 "metadata": {
  "kernelspec": {
   "display_name": "Python 2",
   "language": "python",
   "name": "python2"
  },
  "language_info": {
   "codemirror_mode": {
    "name": "ipython",
    "version": 2
   },
   "file_extension": ".py",
   "mimetype": "text/x-python",
   "name": "python",
   "nbconvert_exporter": "python",
   "pygments_lexer": "ipython2",
   "version": "2.7.11"
  }
 },
 "nbformat": 4,
 "nbformat_minor": 0
}
