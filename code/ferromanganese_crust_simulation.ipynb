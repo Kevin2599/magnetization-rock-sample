{
 "cells": [
  {
   "cell_type": "markdown",
   "metadata": {},
   "source": [
    "# Simulation of Marine ferromanganese crust sample"
   ]
  },
  {
   "cell_type": "markdown",
   "metadata": {},
   "source": [
    "This notebook simulates a ferromanganese marine crust sample similar to that one presented by Oda et al. (2011)."
   ]
  },
  {
   "cell_type": "markdown",
   "metadata": {},
   "source": [
    "* Oda, H., Usui, A., Miyagi, I., Joshima, M., Weiss, B. P., Shantz, C., Fong, L. E., McBride, K. K., Harder, R. and Baudenbacher, F. J. **Ultrafine-scale magnetostratigraphy of marine ferromanganese crust**. Geology, March 2011; v. 39; no. 3; p. 227–230; doi: [10.1130/G31610.1](http://dx.doi.org/10.1130/G31610.1) "
   ]
  },
  {
   "cell_type": "markdown",
   "metadata": {},
   "source": [
    "Oda et al. (2011) presented an alternative cronological method based on magnetostratigraphy. As pointed out by Oda et al. (2011), the cronological methods using radiochemical and stable isotopes have limitations on the millimeter scale. The method proposed by Oda et al. (2011) uses SQUID microscopy to identify the boundaries of ultra-fine magnetic stripes (smaller than 1 mm) with approximatelly reversed magnetization. These magnetic stripes are then correlated with a standard magnetostratigraphic time scale, providing a tool for estimating ages and growth rates for hydrogenetic ferromanganese crusts with unprecedented spatial resolution.\n",
    "\n",
    "Oda et al. (2011) applied their method to analyze a block of ferromanganese crust obtained from a seamount in the northwest Pacific Ocean. They have cut and sliced a columnar block parallel to the growth lamination at 1.5 mm intervals using a 0.3-mm-thick diamond-wire saw. After that, the bulk NRM and anhysteretic remanent magnetization (ARM) of the slices have been estimated by using a SQUID moment magnetometer.\n",
    "\n",
    "Note that, to determine the bulk magnetization along the sample, it was necessary to slice it in small parts. In this case, it would be useful to determine the bulk magnetization along the sample by using a nondestructive method. This notebook illustrates the viability of determining the magnetization distribution along the sample by directly inverting high-resolution measurements of the magnetic induction around the sample. Results with sinthetic data produced by a rectangular sample simulating that one presented by Oda et al. (2011) show the good performance of this nondestructive method."
   ]
  },
  {
   "cell_type": "code",
   "execution_count": 1,
   "metadata": {
    "collapsed": true
   },
   "outputs": [],
   "source": [
    "%matplotlib inline"
   ]
  },
  {
   "cell_type": "code",
   "execution_count": 2,
   "metadata": {
    "collapsed": true
   },
   "outputs": [],
   "source": [
    "import numpy as np\n",
    "from IPython.display import Image\n",
    "from fatiando import mesher, gridder, utils\n",
    "from fatiando.gravmag import prism, sphere, polyprism\n",
    "from fatiando.utils import ang2vec, vec2ang\n",
    "from fatiando.vis import mpl, myv\n",
    "from fatiando.constants import CM, T2NT"
   ]
  },
  {
   "cell_type": "code",
   "execution_count": 3,
   "metadata": {
    "collapsed": true
   },
   "outputs": [],
   "source": [
    "mpl.rc('font', size=16)"
   ]
  },
  {
   "cell_type": "code",
   "execution_count": 4,
   "metadata": {
    "collapsed": false
   },
   "outputs": [],
   "source": [
    "#from functions import * \n",
    "import functions as f"
   ]
  },
  {
   "cell_type": "markdown",
   "metadata": {},
   "source": [
    "### Intensity data"
   ]
  },
  {
   "cell_type": "markdown",
   "metadata": {},
   "source": [
    "The intensity data presented below were digitized from Figure 1G presented by Oda et al. (2011)."
   ]
  },
  {
   "cell_type": "code",
   "execution_count": 5,
   "metadata": {
    "collapsed": false
   },
   "outputs": [],
   "source": [
    "#area_intensity = [0.0,50.0,0.0,15.0]\n",
    "\n",
    "#mpl.close('all')\n",
    "#axes = mpl.figure(figsize=(10,4)).add_subplot(1,1,1)\n",
    "\n",
    "# Loading the imagem NRM_intensity.png\n",
    "\n",
    "#img = mpl.imread('NRM_intensity.png')\n",
    "\n",
    "#mpl.imshow(img, aspect='auto', extent=area_intensity)\n",
    "#mpl.ylabel('NRM Intensity ($10^{-6} Am^{2}/kg$)')\n",
    "#mpl.xlabel('Sample length ($mm$)')\n",
    "#mpl.tight_layout(pad=1.7)\n",
    "\n",
    "# This command open a window with the image and allows the points digitalization of this figure\n",
    "# The figure is a figure 1F of the paper Oda et al. (2011), that contains a the intensity values\n",
    "# along the sample.\n",
    "\n",
    "#intensity = mpl.pick_points(area_intensity, axes, marker='o', color='r', size=8, xy2ne=False)"
   ]
  },
  {
   "cell_type": "code",
   "execution_count": 6,
   "metadata": {
    "collapsed": false
   },
   "outputs": [],
   "source": [
    "intensity = np.array([[  2.03610194,  14.33948864],\n",
    "                      [  4.23953444,  14.53125   ],\n",
    "                      [  5.66110379,   4.43181818],\n",
    "                      [  6.94051621,   3.28125   ],\n",
    "                      [  8.64639943,   5.58238636],\n",
    "                      [ 10.21012572,   4.30397727],\n",
    "                      [ 11.70277354,   7.62784091],\n",
    "                      [ 12.98218596,   4.6875    ],\n",
    "                      [ 14.54591225,   2.19460227],\n",
    "                      [ 16.10963854,   1.55539773],\n",
    "                      [ 17.46012942,   6.66903409],\n",
    "                      [ 19.94787579,   2.32244318],\n",
    "                      [ 21.36944514,   1.36363636],\n",
    "                      [ 22.86209296,   1.55539773],\n",
    "                      [ 24.35474079,   2.64204545],\n",
    "                      [ 26.13170248,   3.34517045],\n",
    "                      [ 27.55327183,   3.28125   ],\n",
    "                      [ 28.83268425,   2.06676136],\n",
    "                      [ 30.32533207,   1.55539773],\n",
    "                      [ 31.74690142,   2.76988636],\n",
    "                      [ 33.45278465,   3.28125   ],\n",
    "                      [ 34.94543247,   3.21732955],\n",
    "                      [ 36.43808029,   3.47301136],\n",
    "                      [ 37.71749271,   1.81107955]])\n",
    "k = 10**(-3)\n",
    "m = k*intensity[:,1]"
   ]
  },
  {
   "cell_type": "code",
   "execution_count": 7,
   "metadata": {
    "collapsed": false
   },
   "outputs": [],
   "source": [
    "#Image(filename='NRM_intensity.png')"
   ]
  },
  {
   "cell_type": "markdown",
   "metadata": {},
   "source": [
    "### Declination data"
   ]
  },
  {
   "cell_type": "markdown",
   "metadata": {},
   "source": [
    "The declination data presented below were digitized from Figure 1D presented by Oda et al. (2011)."
   ]
  },
  {
   "cell_type": "code",
   "execution_count": 8,
   "metadata": {
    "collapsed": false
   },
   "outputs": [],
   "source": [
    "#area_declination = [0.0,50.0,-180.0,180.0]\n",
    "\n",
    "#mpl.close('all')\n",
    "#axes = mpl.figure(figsize=(10,4)).add_subplot(1,1,1)\n",
    "\n",
    "# Loading the image declination.png\n",
    "\n",
    "#img1 = mpl.imread('declination.png')\n",
    "\n",
    "#mpl.imshow(img1, aspect='auto', extent=area_declination)\n",
    "#mpl.ylabel('Declination (degree)')\n",
    "#mpl.xlabel('Sample length ($mm$)')\n",
    "#mpl.tight_layout(pad=1.7)\n",
    "\n",
    "# This command open a window with the image and allows the points digitalization of this figure\n",
    "# The figure is a figure 1D of the paper Oda et al. (2011), that contains a the declination values\n",
    "# along the sample.\n",
    "\n",
    "#d = mpl.pick_points(area_declination, axes, marker='o', color='r', size=8, xy2ne=False)"
   ]
  },
  {
   "cell_type": "code",
   "execution_count": 9,
   "metadata": {
    "collapsed": false
   },
   "outputs": [],
   "source": [
    "declination = np.array([[   1.72796617,   55.22727273],\n",
    "              [   4.04803263,   61.36363636],\n",
    "              [   5.57057624,  174.88636364],\n",
    "              [   7.16562193, -108.92045455],\n",
    "              [   8.68816555, -110.45454545],\n",
    "              [   9.92070085, -116.59090909],\n",
    "              [  11.44324447, -119.65909091],\n",
    "              [  13.03829016,   65.96590909],\n",
    "              [  14.41582962, -125.79545455],\n",
    "              [  15.93837323, -139.60227273],\n",
    "              [  17.38841477,  162.61363636],\n",
    "              [  19.99848954, -104.31818182],\n",
    "              [  21.44853108,  -81.30681818],\n",
    "              [  22.97107469, -104.31818182],\n",
    "              [  24.63862246, -105.85227273],\n",
    "              [  25.79865569,  -98.18181818],\n",
    "              [  27.24869723,   50.625     ],\n",
    "              [  28.84374292, -145.73863636],\n",
    "              [  30.36628653,    4.60227273],\n",
    "              [  31.96133223, -124.26136364],\n",
    "              [  33.41137376,   95.11363636],\n",
    "              [  34.93391738,  -26.07954545],\n",
    "              [  36.45646099,  -33.75      ],\n",
    "              [  37.47149007,  -52.15909091]])\n",
    "\n",
    "dec = declination[:,1]"
   ]
  },
  {
   "cell_type": "markdown",
   "metadata": {},
   "source": [
    "### Inclination data"
   ]
  },
  {
   "cell_type": "markdown",
   "metadata": {},
   "source": [
    "The inclination data presented below were digitized from Figure 1E presented by Oda et al. (2011)."
   ]
  },
  {
   "cell_type": "code",
   "execution_count": 10,
   "metadata": {
    "collapsed": false
   },
   "outputs": [],
   "source": [
    "#area_inclination = [0.0,50.0,-90.0,90.0]\n",
    "\n",
    "#mpl.close('all')\n",
    "#axes = mpl.figure(figsize=(10,4)).add_subplot(1,1,1)\n",
    "\n",
    "# Loading the image inclination.png\n",
    "\n",
    "#img2 = mpl.imread('inclination.png')\n",
    "\n",
    "#mpl.imshow(img2, aspect='auto', extent=area_inclination)\n",
    "#mpl.ylabel('Inclination (degree)')\n",
    "#mpl.xlabel('Sample length ($mm$)')\n",
    "#mpl.tight_layout(pad=1.7)\n",
    "\n",
    "# This command open a window with the image and allows the points digitalization of this figure\n",
    "# The figure is a figure 1E of the paper Oda et al. (2011), that contains the inclination values\n",
    "# along the sample.\n",
    "\n",
    "#i = mpl.pick_points(area_inclination, axes, marker='o', color='r', size=8, xy2ne=False)"
   ]
  },
  {
   "cell_type": "code",
   "execution_count": 11,
   "metadata": {
    "collapsed": false
   },
   "outputs": [],
   "source": [
    "inclination = np.array([[  1.81435669,  48.32386364],\n",
    "              [  4.24941436,  52.92613636],\n",
    "              [  5.75342057,  -7.67045455],\n",
    "              [  7.32904612, -46.78977273],\n",
    "              [  8.68981364, -46.02272727],\n",
    "              [ 10.19381985, -47.55681818],\n",
    "              [ 11.7694454,  -46.78977273],\n",
    "              [ 13.05859358,  48.32386364],\n",
    "              [ 14.63421913,  -0.76704545],\n",
    "              [ 16.13822533,  39.11931818],\n",
    "              [ 17.49899285, -12.27272727],\n",
    "              [ 20.14890855, -23.77840909],\n",
    "              [ 21.58129541, -28.38068182],\n",
    "              [ 23.01368228, -36.05113636],\n",
    "              [ 24.58930783, -46.78977273],\n",
    "              [ 26.16493338, -39.88636364],\n",
    "              [ 27.45408156,  52.15909091],\n",
    "              [ 29.02970711, -52.15909091],\n",
    "              [ 30.46209397, -59.82954545],\n",
    "              [ 32.10933886, -52.15909091],\n",
    "              [ 33.47010638,  60.59659091],\n",
    "              [ 34.90249325,  73.63636364],\n",
    "              [ 36.33488011,  11.50568182],\n",
    "              [ 37.69564763, -23.01136364]])\n",
    "\n",
    "inc = inclination[:,1]"
   ]
  },
  {
   "cell_type": "markdown",
   "metadata": {},
   "source": [
    "### Synthetic sample "
   ]
  },
  {
   "cell_type": "markdown",
   "metadata": {},
   "source": [
    "The sinthetic sample simulated here is formed by 24 juxtaposed cells whose length sides are 1.5, 5.0 and 5.0 mm along the $x$, $y$ and $z$ directions, respectively. The magnetization intensity, declination and inclination values of each cell are those ones digitized from Figure 1 of Oda et al. (2011). The magnetic induction produced by this synthetic sample is calculated on four planes around the sample, at a regular grid of 200 x 100 observation points, being 200 the number of points along the $x$-axis. The distance between the planes and sample surface is 370 $\\mu$m."
   ]
  },
  {
   "cell_type": "code",
   "execution_count": 12,
   "metadata": {
    "collapsed": true
   },
   "outputs": [],
   "source": [
    "Lx = 1.5  #cell length side along x-axis in mm\n",
    "Ly = 5.0  #sample length side along y-axis in mm\n",
    "Lz = 5.0  #sample length side along z-axis in mm\n",
    "N = 24    #number of cells forming the synthetic sample\n",
    "Nx = 200  #number of points along the x-axis on the planes\n",
    "Ny = 100  #number of points along the y- or z-axis on the planes\n",
    "h = 370   #distance (in microns) between the planes and the sample surface\n",
    "xmax = 0.001*25    # in m\n",
    "ymax = 0.001*12.5  # in m\n",
    "zmax = 0.001*12.5  # in m\n",
    "xmin = -xmax       # in m\n",
    "ymin = -ymax       # in m\n",
    "zmin = -zmax       # in m\n",
    "area = [xmin,xmax,ymin,ymax] # in m\n",
    "volume = area + [zmin,zmax]  # in m"
   ]
  },
  {
   "cell_type": "code",
   "execution_count": 13,
   "metadata": {
    "collapsed": true
   },
   "outputs": [],
   "source": [
    "aux0 = 0.5*N*Lx\n",
    "aux1 = 0.5*Lx\n",
    "centers = [aux1-aux0 + i*Lx for i in range(N)]"
   ]
  },
  {
   "cell_type": "code",
   "execution_count": 14,
   "metadata": {
    "collapsed": false
   },
   "outputs": [
    {
     "name": "stdout",
     "output_type": "stream",
     "text": [
      "Total sample length along the x-axis: 36.000 mm\n"
     ]
    }
   ],
   "source": [
    "print 'Total sample length along the x-axis: %.3f mm' % (N*Lx)"
   ]
  },
  {
   "cell_type": "markdown",
   "metadata": {},
   "source": [
    "####Syntetic sample model"
   ]
  },
  {
   "cell_type": "code",
   "execution_count": 15,
   "metadata": {
    "collapsed": false
   },
   "outputs": [],
   "source": [
    "model_crust = f.sample(0.001*Lx,0.001*Ly,0.001*Lz,N,m,inc,dec)"
   ]
  },
  {
   "cell_type": "markdown",
   "metadata": {},
   "source": [
    "####Observation points"
   ]
  },
  {
   "cell_type": "markdown",
   "metadata": {},
   "source": [
    "The cell below generates the coordinates (in meters) of the observation points on which the magnetic induction produced by the synthetic sample is calculated. These points are located on four planes around the sample."
   ]
  },
  {
   "cell_type": "code",
   "execution_count": 16,
   "metadata": {
    "collapsed": false
   },
   "outputs": [],
   "source": [
    "x0,y0,z0 = f.coordplane(h,1.e-3*Ly,Nx,Ny,area,0,0)\n",
    "x1,y1,z1 = f.coordplane(h,1.e-3*Lz,Nx,Ny,area,1,0)\n",
    "x2,y2,z2 = f.coordplane(h,1.e-3*Ly,Nx,Ny,area,2,0)\n",
    "x3,y3,z3 = f.coordplane(h,1.e-3*Lz,Nx,Ny,area,3,0)"
   ]
  },
  {
   "cell_type": "markdown",
   "metadata": {},
   "source": [
    "####Boundaries of the studied area"
   ]
  },
  {
   "cell_type": "code",
   "execution_count": 17,
   "metadata": {
    "collapsed": false
   },
   "outputs": [
    {
     "name": "stdout",
     "output_type": "stream",
     "text": [
      "xmin =  -2.500 cm\n",
      "xmax =   2.500 cm\n",
      "ymin =  -1.250 cm\n",
      "ymax =   1.250 cm\n",
      "zmin =  -1.250 cm\n",
      "zmax =   1.250 cm\n",
      "\n",
      "\n",
      "dx =   0.025 cm\n",
      "dy =   0.025 cm\n",
      "dz =   0.025 cm\n"
     ]
    }
   ],
   "source": [
    "print 'xmin = %7.3f cm' % (100.*volume[0])\n",
    "print 'xmax = %7.3f cm' % (100.*volume[1])\n",
    "print 'ymin = %7.3f cm' % (100.*volume[2])\n",
    "print 'ymax = %7.3f cm' % (100.*volume[3])\n",
    "print 'zmin = %7.3f cm' % (100.*volume[4])\n",
    "print 'zmax = %7.3f cm' % (100.*volume[5])\n",
    "print '\\n'\n",
    "print 'dx = %7.3f cm' % (100.*(volume[1]-volume[0])/Nx)\n",
    "print 'dy = %7.3f cm' % (100.*(volume[3]-volume[2])/Ny)\n",
    "print 'dz = %7.3f cm' % (100.*(volume[5]-volume[4])/Ny)"
   ]
  },
  {
   "cell_type": "markdown",
   "metadata": {},
   "source": [
    "####Magnetic induction produced by the synthetic sample"
   ]
  },
  {
   "cell_type": "markdown",
   "metadata": {},
   "source": [
    "With the observation points and the synthetic model generated previously, we calculate the magnetic induction produced by the synthetic sample on the four planes."
   ]
  },
  {
   "cell_type": "code",
   "execution_count": 18,
   "metadata": {
    "collapsed": false
   },
   "outputs": [],
   "source": [
    "##### Calculating the magnetic induction (nT) produced by the sample\n",
    "\n",
    "#B0 = prism.bz(x0, y0, z0, model_crust)\n",
    "#B1 = prism.by(x1, y1, z1, model_crust) \n",
    "#B2 = prism.bz(x2, y2, z2, model_crust) \n",
    "#B3 = prism.by(x3, y3, z3, model_crust) "
   ]
  },
  {
   "cell_type": "markdown",
   "metadata": {},
   "source": [
    "#### Generating noise"
   ]
  },
  {
   "cell_type": "markdown",
   "metadata": {},
   "source": [
    "In addition, we contaminate the data calculated above with two different noise types. The first one simulates the magnetic induction produced by 50 highly-magnetized Titanomagnetite grains within the synthetic sample. These grains are represented by randomly distributed spheres with radius equal to 30 $\\mu$m and magnetization intensity of 100 A/m. The magnetization direction of these grains are randomly oriented. The second noise added to the magnetic induction calculated above simulates an intrumental error represented by a pseudo-random Gaussian noise with zero mean and standard deviation equal to 0.749 nT (10% of the maximum absolute value of magnetic induction)."
   ]
  },
  {
   "cell_type": "code",
   "execution_count": 19,
   "metadata": {
    "collapsed": true
   },
   "outputs": [],
   "source": [
    "## Strongly magnetized dipoles within the synthetic sample\n",
    "\n",
    "model_rand,Cx,Cy,Cz = f.dipolesrand(24,40,20,0,90,90,100,1.e-6*30,1.e-3*Lx,1.e-3*Ly,1.e-3*Lz)\n",
    "\n",
    "## The magnetic induction (nT) produced by the random dipoles\n",
    "\n",
    "#dB0 = sphere.bz(x0, y0, z0, model_rand)\n",
    "#dB1 = sphere.by(x1, y1, z1, model_rand) \n",
    "#dB2 = sphere.bz(x2, y2, z2, model_rand) \n",
    "#dB3= sphere.by(x3, y3, z3, model_rand) "
   ]
  },
  {
   "cell_type": "code",
   "execution_count": 20,
   "metadata": {
    "collapsed": false
   },
   "outputs": [],
   "source": [
    "B0 = f.magnetic_data(x0, y0, z0, model_crust, 0, eff_area=None, grains = model_rand)\n",
    "B1 = f.magnetic_data(x1, y1, z1, model_crust, 1, eff_area=None,grains = model_rand)\n",
    "B2 = f.magnetic_data(x2, y2, z2, model_crust, 2, eff_area=None,grains = model_rand)\n",
    "B3 = f.magnetic_data(x3, y3, z3, model_crust, 3, eff_area=None,grains = model_rand)"
   ]
  },
  {
   "cell_type": "code",
   "execution_count": 21,
   "metadata": {
    "collapsed": false
   },
   "outputs": [
    {
     "name": "stdout",
     "output_type": "stream",
     "text": [
      "1.256 nT\n"
     ]
    }
   ],
   "source": [
    "##### Calculating the pseudo-random Gaussian noise (nT)\n",
    "\n",
    "np.random.seed(seed=40)\n",
    "\n",
    "# The standard deviation of the pseudo-random Gaussian\n",
    "# noise is defined as 10% of the\n",
    "# maximum absolute value of magnetic induction produced\n",
    "# by the synthetic sample on the four planes\n",
    "std_noise = 0.10*np.max(np.abs([B0, B1, B2, B3]))\n",
    "#std_noise = 0.05 # in nT\n",
    "\n",
    "r = np.random.normal(0.0, std_noise, Nx*Ny)\n",
    "\n",
    "print '%.3f nT' % std_noise"
   ]
  },
  {
   "cell_type": "markdown",
   "metadata": {},
   "source": [
    "#### Observed data vector"
   ]
  },
  {
   "cell_type": "code",
   "execution_count": null,
   "metadata": {
    "collapsed": false
   },
   "outputs": [],
   "source": [
    "#### Noise-corrupted data (in nT) on the four planes around the synthetic sample\n",
    "#B0_obs = B0 + r + dB0\n",
    "#B1_obs = B1 + r + dB1\n",
    "#B2_obs = B2 + r + dB2\n",
    "#B3_obs = B3 + r + dB3\n",
    "\n",
    "B0_obs = B0 + r\n",
    "B1_obs = B1 + r\n",
    "B2_obs = B2 + r\n",
    "B3_obs = B3 + r\n",
    "\n",
    "#### Observed data vector (in nT)\n",
    "B_obs = np.hstack([B0_obs,B1_obs,B2_obs,B3_obs])"
   ]
  },
  {
   "cell_type": "markdown",
   "metadata": {},
   "source": [
    "### Inversion"
   ]
  },
  {
   "cell_type": "markdown",
   "metadata": {},
   "source": [
    "Here we estimate the Cartesian coordinates of the magnetization vector within each cell forming the synthetic sample by inverting the observed data vector defined above. After that, we transform the estimated Cartesian coordinates into intensity, declination and inclination."
   ]
  },
  {
   "cell_type": "code",
   "execution_count": null,
   "metadata": {
    "collapsed": false
   },
   "outputs": [],
   "source": [
    "###### Calculating the sensibility matrices\n",
    "\n",
    "A0 = f.sensitivity(N,x0,y0,z0,model_crust,0)\n",
    "A1 = f.sensitivity(N,x1,y1,z1,model_crust,1)\n",
    "A2 = f.sensitivity(N,x2,y2,z2,model_crust,2)\n",
    "A3 = f.sensitivity(N,x3,y3,z3,model_crust,3)\n",
    "\n",
    "A = np.vstack([A0,A1,A2,A3])\n",
    "\n",
    "###### Estimating parameters (in A/m) using the noise-corrupted data on the four planes\n",
    "\n",
    "p_est = f.L2_norm(A,B_obs) \n",
    "\n",
    "# Transforming from Cartesian to spherical coordinates\n",
    "\n",
    "mag_r = f.parameters_sph(24,p_est)\n",
    "\n",
    "###### Calculating the predicted data\n",
    "\n",
    "B0p = np.dot(A0,p_est)\n",
    "B1p = np.dot(A1,p_est)\n",
    "B2p = np.dot(A2,p_est)\n",
    "B3p = np.dot(A3,p_est)\n",
    "\n",
    "##### Calculanting the residuals\n",
    "\n",
    "r0_norm,r0_mean,r0_std = f.residual(B0_obs,B0p)\n",
    "r1_norm,r1_mean,r1_std = f.residual(B1_obs,B1p)\n",
    "r2_norm,r2_mean,r2_std = f.residual(B2_obs,B2p)\n",
    "r3_norm,r3_mean,r3_std = f.residual(B3_obs,B3p)"
   ]
  },
  {
   "cell_type": "markdown",
   "metadata": {},
   "source": [
    "### Plotting of the observed and predicted data "
   ]
  },
  {
   "cell_type": "code",
   "execution_count": null,
   "metadata": {
    "collapsed": false
   },
   "outputs": [],
   "source": [
    "title_font = 22\n",
    "bottom_font = 16\n",
    "\n",
    "labels = ['(a)', '(b)', '(c)', \n",
    "          '(d)', '(e)', '(f)',\n",
    "          '(g)', '(h)', '(i)',\n",
    "          '(j)', '(k)', '(l)']\n",
    "\n",
    "lables_place = (0.05, 0.90)\n",
    "lables_size = 24\n",
    "\n",
    "shape = (200,100)\n",
    "\n",
    "saturation_factor = 0.7\n",
    "\n",
    "mpl.close('all')\n",
    "mpl.figure(figsize=(20,24), tight_layout=True)\n",
    "\n",
    "#############\n",
    "ranges = saturation_factor*np.abs([B0_obs.max(), B0_obs.min(),\n",
    "                 B0p.max(),B0p.min()]).max()\n",
    "\n",
    "mpl.subplot(4,3,1)\n",
    "\n",
    "#mpl.title('(a)', fontsize=title_font)\n",
    "nlevels = mpl.contourf(100.*y0, 100.*x0, B0_obs, shape, 20, cmap=mpl.cm.RdBu_r,\n",
    "            vmin=-ranges, vmax=ranges)\n",
    "#mpl.colorbar(pad=0.01, aspect=40, shrink=1.0).set_label('nT')\n",
    "mpl.colorbar(pad=0.01, aspect=40, shrink=1.0)\n",
    "mpl.xlabel('y (cm)', fontsize = title_font)\n",
    "mpl.ylabel('x (cm)', fontsize = title_font)\n",
    "mpl.annotate(labels[0], xy = lables_place, \n",
    "             xycoords = 'axes fraction', fontsize=lables_size)\n",
    "\n",
    "mpl.subplot(4,3,2)\n",
    "\n",
    "#mpl.title('(b)', fontsize=title_font)\n",
    "mpl.contourf(100.*y0, 100.*x0, B0p, shape, nlevels, cmap=mpl.cm.RdBu_r,\n",
    "            vmin=-ranges, vmax=ranges)\n",
    "#mpl.colorbar(pad=0.01, aspect=40, shrink=1.0).set_label('nT')\n",
    "mpl.colorbar(pad=0.01, aspect=40, shrink=1.0)\n",
    "mpl.xlabel('y (cm)', fontsize = title_font)\n",
    "mpl.ylabel('x (cm)', fontsize = title_font)\n",
    "mpl.annotate(labels[1], xy = lables_place, \n",
    "             xycoords = 'axes fraction', fontsize=lables_size)\n",
    "\n",
    "mpl.subplot(4,3,3)\n",
    "#mpl.title('(c)', fontsize=title_font)\n",
    "mpl.xlabel('$\\mu$ = %.3f nT | $\\sigma$ = %.3f nT' % (r0_mean, r0_std), fontsize = title_font)\n",
    "nbins = int((np.max(r0_norm) - np.min(r0_norm)))\n",
    "mpl.hist(r0_norm,bins=nbins,normed=True)\n",
    "mpl.ylim(0.,0.4)\n",
    "mpl.xlim(-10., 10.)\n",
    "mpl.annotate(labels[2], xy = lables_place, \n",
    "             xycoords = 'axes fraction', fontsize=lables_size)\n",
    "\n",
    "\n",
    "###############\n",
    "ranges = saturation_factor*np.abs([B1_obs.max(), B1_obs.min(),\n",
    "                B1p.max(),B1p.min()]).max()\n",
    "\n",
    "mpl.subplot(4,3,4)\n",
    "\n",
    "#mpl.title('(d)', fontsize=title_font)\n",
    "nlevels = mpl.contourf(100.*z1, 100.*x1, B1_obs, shape, 20, cmap=mpl.cm.RdBu_r,\n",
    "            vmin=-ranges, vmax=ranges)\n",
    "#mpl.colorbar(pad=0.01, aspect=40, shrink=1.0).set_label('nT')\n",
    "mpl.colorbar(pad=0.01, aspect=40, shrink=1.0)\n",
    "mpl.xlabel('z (cm)', fontsize = title_font)\n",
    "mpl.ylabel('x (cm)', fontsize = title_font)\n",
    "mpl.annotate(labels[3], xy = lables_place, \n",
    "             xycoords = 'axes fraction', fontsize=lables_size)\n",
    "\n",
    "mpl.subplot(4,3,5)\n",
    "\n",
    "#mpl.title('(e)', fontsize=title_font)\n",
    "mpl.contourf(100.*z1, 100.*x1, B1p, shape, nlevels, cmap=mpl.cm.RdBu_r,\n",
    "            vmin=-ranges, vmax=ranges)\n",
    "#mpl.colorbar(pad=0.01, aspect=40, shrink=1.0).set_label('nT')\n",
    "mpl.colorbar(pad=0.01, aspect=40, shrink=1.0)\n",
    "mpl.xlabel('z (cm)', fontsize = title_font)\n",
    "mpl.ylabel('x (cm)', fontsize = title_font)\n",
    "mpl.annotate(labels[4], xy = lables_place, \n",
    "             xycoords = 'axes fraction', fontsize=lables_size)\n",
    "\n",
    "mpl.subplot(4,3,6)\n",
    "#mpl.title('(f)', fontsize=title_font)\n",
    "mpl.xlabel('$\\mu$ = %.3f nT | $\\sigma$ = %.3f nT' % (r1_mean, r1_std), fontsize = title_font)\n",
    "nbins = int((np.max(r1_norm) - np.min(r1_norm)))\n",
    "mpl.hist(r1_norm,bins=nbins,normed=True)\n",
    "mpl.ylim(0.,0.4)\n",
    "mpl.xlim(-10., 10.)\n",
    "mpl.annotate(labels[5], xy = lables_place, \n",
    "             xycoords = 'axes fraction', fontsize=lables_size)\n",
    "\n",
    "###########################\n",
    "ranges = saturation_factor*np.abs([B2_obs.max(), B2_obs.min(),\n",
    "                B2p.max(),B2p.min()]).max()\n",
    "\n",
    "mpl.subplot(4,3,7)\n",
    "\n",
    "#mpl.title('(g)', fontsize=title_font)\n",
    "nlevels = mpl.contourf(100.*y2, 100.*x2, B2_obs, shape, 20, cmap=mpl.cm.RdBu_r,\n",
    "            vmin=-ranges, vmax=ranges)\n",
    "#mpl.colorbar(pad=0.01, aspect=40, shrink=1.0).set_label('nT')\n",
    "mpl.colorbar(pad=0.01, aspect=40, shrink=1.0)\n",
    "mpl.xlabel('y (cm)', fontsize = title_font)\n",
    "mpl.ylabel('x (cm)', fontsize = title_font)\n",
    "mpl.annotate(labels[6], xy = lables_place, \n",
    "             xycoords = 'axes fraction', fontsize=lables_size)\n",
    "\n",
    "mpl.subplot(4,3,8)\n",
    "\n",
    "#mpl.title('(h)', fontsize=title_font)\n",
    "mpl.contourf(100.*y2, 100.*x2, B2p, shape, nlevels, cmap=mpl.cm.RdBu_r,\n",
    "            vmin=-ranges, vmax=ranges)\n",
    "#mpl.colorbar(pad=0.01, aspect=40, shrink=1.0).set_label('nT')\n",
    "mpl.colorbar(pad=0.01, aspect=40, shrink=1.0)\n",
    "mpl.xlabel('y (cm)', fontsize = title_font)\n",
    "mpl.ylabel('x (cm)', fontsize = title_font)\n",
    "mpl.annotate(labels[7], xy = lables_place, \n",
    "             xycoords = 'axes fraction', fontsize=lables_size)\n",
    "\n",
    "mpl.subplot(4,3,9)\n",
    "#mpl.title('(i)', fontsize=title_font)\n",
    "mpl.xlabel('$\\mu$ = %.3f nT | $\\sigma$ = %.3f nT' % (r2_mean, r2_std), fontsize = title_font)\n",
    "nbins = int((np.max(r2_norm) - np.min(r2_norm)))\n",
    "mpl.hist(r2_norm,bins=nbins,normed=True)\n",
    "mpl.ylim(0.,0.4)\n",
    "mpl.xlim(-10., 10.)\n",
    "mpl.annotate(labels[8], xy = lables_place, \n",
    "             xycoords = 'axes fraction', fontsize=lables_size)\n",
    "\n",
    "#############################\n",
    "ranges = saturation_factor*np.abs([B3_obs.max(), B3_obs.min(),\n",
    "                B3p.max(),B3p.min()]).max()\n",
    "\n",
    "mpl.subplot(4,3,10)\n",
    "\n",
    "#mpl.title('(j)', fontsize=title_font)\n",
    "nlevels = mpl.contourf(100.*z3, 100.*x3, B3_obs, shape, 20, cmap=mpl.cm.RdBu_r,\n",
    "            vmin=-ranges, vmax=ranges)\n",
    "#mpl.colorbar(pad=0.01, aspect=40, shrink=1.0).set_label('nT')\n",
    "mpl.colorbar(pad=0.01, aspect=40, shrink=1.0)\n",
    "mpl.xlabel('z (cm)', fontsize = title_font)\n",
    "mpl.ylabel('x (cm)', fontsize = title_font)\n",
    "mpl.annotate(labels[9], xy = lables_place, \n",
    "             xycoords = 'axes fraction', fontsize=lables_size)\n",
    "\n",
    "mpl.subplot(4,3,11)\n",
    "\n",
    "#mpl.title('(l)', fontsize=title_font)\n",
    "mpl.contourf(100.*z3, 100.*x3, B3p, shape, nlevels, cmap=mpl.cm.RdBu_r,\n",
    "            vmin=-ranges, vmax=ranges)\n",
    "#mpl.colorbar(pad=0.01, aspect=40, shrink=1.0).set_label('nT')\n",
    "mpl.colorbar(pad=0.01, aspect=40, shrink=1.0)\n",
    "mpl.xlabel('z (cm)', fontsize = title_font)\n",
    "mpl.ylabel('x (cm)', fontsize = title_font)\n",
    "mpl.annotate(labels[10], xy = lables_place, \n",
    "             xycoords = 'axes fraction', fontsize=lables_size)\n",
    "\n",
    "mpl.subplot(4,3,12)\n",
    "#mpl.title('(m)', fontsize=title_font)\n",
    "mpl.xlabel('$\\mu$ = %.3f nT | $\\sigma$ = %.3f nT' % (r3_mean, r3_std), fontsize = title_font)\n",
    "nbins = int((np.max(r3_norm) - np.min(r3_norm)))\n",
    "mpl.hist(r3_norm,bins=nbins,normed=True)\n",
    "mpl.ylim(0.,0.4)\n",
    "mpl.xlim(-10., 10.)\n",
    "mpl.annotate(labels[11], xy = lables_place, \n",
    "             xycoords = 'axes fraction', fontsize=lables_size)\n",
    "\n",
    "\n",
    "mpl.savefig('..\\\\manuscript\\\\Figs\\\\Fig11_HQ.eps')\n",
    "mpl.savefig('..\\\\manuscript\\\\Figs\\\\Fig11_LQ.png')\n",
    "\n",
    "mpl.show()"
   ]
  },
  {
   "cell_type": "markdown",
   "metadata": {},
   "source": [
    "** Figure 1:** Comparison between the observed data and predicted data: (a) Observed and (b) predicted $B_{z}$ data on the plane above the sample. (c) Normalized histogram of the residuals between the data shown in (a) and (b). (d) Observed and (e) predicted $B_y$ data on the right plane. (f) Normalized histogram of the residuals between the data shown in (d) and (e). (g) Observed and (h) predicted $B_z$ data on the plane below the sample. (i) Normalized histogram of the residuals between the data shown in (g) and (h). (j) Observed and (l) predicted $B_y$ data on the left plane. (m) Normalized histogram of the residuals between the data shown in (j) and (l). The mean $\\mu$ and standard deviation $\\sigma$ of the residuals are shown below the histograms. Both values are in nT."
   ]
  },
  {
   "cell_type": "markdown",
   "metadata": {},
   "source": [
    "###Comparison between the true and estimated magnetization directions along the synthetic sample"
   ]
  },
  {
   "cell_type": "code",
   "execution_count": null,
   "metadata": {
    "collapsed": false
   },
   "outputs": [],
   "source": [
    "label_font = 20\n",
    "legend_font = 16\n",
    "\n",
    "labels = ['(a)', '(b)', '(c)']\n",
    "\n",
    "lables_place = (0.90, 0.90)\n",
    "lables_size = 24\n",
    "\n",
    "mpl.show()\n",
    "mpl.close('all')\n",
    "mpl.figure(figsize=(8, 16), tight_layout=True)\n",
    "\n",
    "mpl.subplot(3,1,1)\n",
    "#mpl.plot([np.min(centers), np.max(centers)], [1200.0, 1200.0], 'k--',\n",
    "#         label='Saturation magnetization')\n",
    "mpl.plot(centers, 1000.*m, 'r-', linewidth=2)\n",
    "mpl.plot(centers, 1000.*m, 'ro', markersize=10, label='True')\n",
    "mpl.plot(centers, 1000.*mag_r[:,0], 'b--', linewidth=2)\n",
    "mpl.plot(centers, 1000.*mag_r[:,0], 'bo', markersize=10,label='Estimated')\n",
    "mpl.ylabel('Intensity ($A/m$)', fontsize=label_font)\n",
    "mpl.ylim(0., np.max(1000.*mag_r[:,0]) + 2.)\n",
    "#mpl.legend(loc='best', numpoints=1)\n",
    "mpl.annotate(labels[0], xy = lables_place, \n",
    "                 xycoords = 'axes fraction', fontsize=lables_size)\n",
    "\n",
    "mpl.subplot(3,1,2)\n",
    "mpl.plot([np.min(centers), np.max(centers)], [0.0, 0.0], 'k--')\n",
    "#mpl.plot([np.min(centers), np.max(centers)], [45.0, 45.0], 'k--')\n",
    "#mpl.plot([np.min(centers), np.max(centers)], [90.0, 90.0], 'k--')\n",
    "#mpl.plot([np.min(centers), np.max(centers)], [-90.0, -90.0], 'k--')\n",
    "mpl.plot(centers, inc, 'r-', linewidth=2)\n",
    "mpl.plot(centers, inc, 'ro', markersize=10, label='True')\n",
    "mpl.plot(centers, mag_r[:,1], 'b--', linewidth=2)\n",
    "mpl.plot(centers, mag_r[:,1], 'bo', markersize=10, label='Estimated')\n",
    "mpl.ylabel('Inclination ($^{\\circ}$)', fontsize=label_font)\n",
    "mpl.ylim(np.min(mag_r[:,1]) - 20., np.max(mag_r[:,1]) + 20.)\n",
    "#mpl.legend(loc='best', numpoints=1)\n",
    "mpl.annotate(labels[1], xy = lables_place, \n",
    "                 xycoords = 'axes fraction', fontsize=lables_size)\n",
    "\n",
    "mpl.subplot(3,1,3)\n",
    "mpl.plot([np.min(centers), np.max(centers)], [0.0, 0.0], 'k--')\n",
    "#mpl.plot([np.min(centers), np.max(centers)], [180.0, 180.0], 'k--')\n",
    "mpl.plot(centers, dec, 'r-', linewidth=2)\n",
    "mpl.plot(centers, dec, 'ro', markersize=10, label='True')\n",
    "mpl.plot(centers, mag_r[:,2], 'b--', linewidth=2)\n",
    "mpl.plot(centers, mag_r[:,2], 'bo', markersize=10, label='Estimated')\n",
    "mpl.ylabel('Declination ($^{\\circ}$)', fontsize=label_font)\n",
    "#mpl.xlabel('Sample length ($cm$)', fontsize=label_font)\n",
    "mpl.xlabel('$x$ ($cm$)', fontsize=label_font)\n",
    "mpl.ylim(np.min(mag_r[:,2]) - 20., np.max(mag_r[:,2]) + 20.)\n",
    "#mpl.savefig('estimate_int_inc_dec_simul_validation.eps')\n",
    "#mpl.legend(loc='best', numpoints=1)\n",
    "mpl.annotate(labels[2], xy = lables_place, \n",
    "                 xycoords = 'axes fraction', fontsize=lables_size)\n",
    "\n",
    "mpl.savefig('..\\\\manuscript\\\\Figs\\\\Fig12_HQ.eps')\n",
    "mpl.savefig('..\\\\manuscript\\\\Figs\\\\Fig12_LQ.png')\n",
    "\n",
    "mpl.show()"
   ]
  },
  {
   "cell_type": "markdown",
   "metadata": {
    "collapsed": true
   },
   "source": [
    "** Figure 2 **: Comparison between the true (red lines and symbols) and estimated (blue lines and symbols) magnetization intensity, inclination and declination along the synthetic sample. "
   ]
  },
  {
   "cell_type": "markdown",
   "metadata": {},
   "source": [
    "### Conclusions"
   ]
  },
  {
   "cell_type": "markdown",
   "metadata": {
    "collapsed": true
   },
   "source": [
    "We have simulated a rectangular rock sample with a complex magnetization distribution similar to the marine ferromanganese crust sample analyzed by Oda et. al (2011). The synthetic data produced by this synthetic sample is calculated on four planes around the sample. In order to simulate a geologically-meaningful sample, we have contaminated the synthetic data with two different noise types. The first one is a pseudo-random Gaussian noise simulating an instrumental error and the other one simulates the magnetic induction produced by highly-magnetized Titanomagnetite grains randomly distributed within the synthetic sample. The results obtained by inverting these noise-corrupted data show the good performance of our method in retrieving the spatial variability of the geologically-meaningful magnetization distribution within the synthetic sample."
   ]
  }
 ],
 "metadata": {
  "kernelspec": {
   "display_name": "Python 2",
   "language": "python",
   "name": "python2"
  },
  "language_info": {
   "codemirror_mode": {
    "name": "ipython",
    "version": 2
   },
   "file_extension": ".py",
   "mimetype": "text/x-python",
   "name": "python",
   "nbconvert_exporter": "python",
   "pygments_lexer": "ipython2",
   "version": "2.7.9"
  }
 },
 "nbformat": 4,
 "nbformat_minor": 0
}
