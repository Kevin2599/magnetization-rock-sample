{
 "cells": [
  {
   "cell_type": "code",
   "execution_count": 1,
   "metadata": {
    "collapsed": true
   },
   "outputs": [],
   "source": [
    "%matplotlib inline"
   ]
  },
  {
   "cell_type": "code",
   "execution_count": 2,
   "metadata": {
    "collapsed": false
   },
   "outputs": [],
   "source": [
    "import numpy as np\n",
    "from IPython.display import Image\n",
    "from fatiando.vis import mpl, myv\n",
    "from fatiando.gravmag import prism, sphere\n",
    "from fatiando.utils import contaminate"
   ]
  },
  {
   "cell_type": "code",
   "execution_count": 3,
   "metadata": {
    "collapsed": true
   },
   "outputs": [],
   "source": [
    "mpl.rcParams['font.size'] = 16"
   ]
  },
  {
   "cell_type": "code",
   "execution_count": 4,
   "metadata": {
    "collapsed": true
   },
   "outputs": [],
   "source": [
    "import functions as f"
   ]
  },
  {
   "cell_type": "markdown",
   "metadata": {},
   "source": [
    "### Load data from txt files"
   ]
  },
  {
   "cell_type": "markdown",
   "metadata": {},
   "source": [
    "These data are the output of the application to real data."
   ]
  },
  {
   "cell_type": "code",
   "execution_count": 5,
   "metadata": {
    "collapsed": true
   },
   "outputs": [],
   "source": [
    "nfiles = 4"
   ]
  },
  {
   "cell_type": "code",
   "execution_count": 6,
   "metadata": {
    "collapsed": true
   },
   "outputs": [],
   "source": [
    "files = ['..\\\\data\\\\data0.txt', \n",
    "         '..\\\\data\\\\data1.txt',\n",
    "         '..\\\\data\\\\data2.txt',\n",
    "         '..\\\\data\\\\data3.txt']"
   ]
  },
  {
   "cell_type": "code",
   "execution_count": 7,
   "metadata": {
    "collapsed": false
   },
   "outputs": [],
   "source": [
    "data = []\n",
    "\n",
    "for i in range(nfiles):\n",
    "    data.append(np.loadtxt(files[i]))"
   ]
  },
  {
   "cell_type": "code",
   "execution_count": 8,
   "metadata": {
    "collapsed": true
   },
   "outputs": [],
   "source": [
    "files_error = ['..\\\\data\\\\data_error_0.txt', \n",
    "               '..\\\\data\\\\data_error_1.txt',\n",
    "               '..\\\\data\\\\data_error_2.txt',\n",
    "               '..\\\\data\\\\data_error_3.txt']"
   ]
  },
  {
   "cell_type": "code",
   "execution_count": 9,
   "metadata": {
    "collapsed": false
   },
   "outputs": [],
   "source": [
    "data_error = []\n",
    "\n",
    "for i in range(nfiles):\n",
    "    data_error.append(np.loadtxt(files_error[i]))"
   ]
  },
  {
   "cell_type": "code",
   "execution_count": 10,
   "metadata": {
    "collapsed": false
   },
   "outputs": [],
   "source": [
    "mag_true = np.loadtxt('..\\\\data\\\\estimate_real.txt')"
   ]
  },
  {
   "cell_type": "code",
   "execution_count": 11,
   "metadata": {
    "collapsed": false
   },
   "outputs": [
    {
     "data": {
      "text/plain": [
       "array([[  129.92212,    17.37365,    40.1439 ],\n",
       "       [  672.23611,    26.62932,   169.86928],\n",
       "       [  989.74406,    30.24831,   170.66381],\n",
       "       [  995.30656,    24.85233,   168.0694 ],\n",
       "       [  564.86695,    62.97999,   127.54028],\n",
       "       [ 1349.6365 ,    56.34603,     9.2497 ],\n",
       "       [ 1097.40121,    44.19063,    13.07606],\n",
       "       [ 1151.47208,    54.95238,    14.6971 ],\n",
       "       [  355.92525,   -13.03439,     5.82444],\n",
       "       [ 1283.29386,   -76.24577,    -5.77769],\n",
       "       [ 1130.91748,   -75.23991,    -3.94763],\n",
       "       [ 1315.05326,   -74.31212,    -7.40493],\n",
       "       [  287.10237,    62.6633 ,    39.5504 ],\n",
       "       [ 1232.04768,    85.53766,    76.94846],\n",
       "       [ 1243.42849,    84.54094,    43.78796],\n",
       "       [ 1126.42339,    83.85193,   159.84944]])"
      ]
     },
     "execution_count": 11,
     "metadata": {},
     "output_type": "execute_result"
    }
   ],
   "source": [
    "mag_true"
   ]
  },
  {
   "cell_type": "markdown",
   "metadata": {},
   "source": [
    "Here, the estimated magnetization obtained with real data is modified in order to simulate an observed data set. Only the estimated inclination and declination are modified."
   ]
  },
  {
   "cell_type": "code",
   "execution_count": 12,
   "metadata": {
    "collapsed": true
   },
   "outputs": [],
   "source": [
    "mean_inc0 = np.mean(mag_true[1:4,1])\n",
    "mean_inc1 = np.mean(mag_true[5:8,1])\n",
    "mean_inc2 = np.mean(mag_true[9:12,1])\n",
    "mean_inc3 = np.mean(mag_true[13:16,1])\n",
    "\n",
    "mean_dec0 = np.mean(mag_true[1:4,2])\n",
    "mean_dec1 = np.mean(mag_true[5:8,2])\n",
    "mean_dec2 = np.mean(mag_true[9:12,2])\n",
    "mean_dec3 = np.mean(mag_true[13:16,2])"
   ]
  },
  {
   "cell_type": "code",
   "execution_count": 13,
   "metadata": {
    "collapsed": true
   },
   "outputs": [],
   "source": [
    "mag_true[0:4,1] = mean_inc0\n",
    "mag_true[4:8,1] = mean_inc1\n",
    "mag_true[8:12,1] = mean_inc2\n",
    "mag_true[12:16,1] = mean_inc3"
   ]
  },
  {
   "cell_type": "code",
   "execution_count": 14,
   "metadata": {
    "collapsed": true
   },
   "outputs": [],
   "source": [
    "mag_true[0:4,2] = mean_dec0\n",
    "mag_true[4:8,2] = mean_dec1\n",
    "mag_true[8:12,2] = mean_dec2\n",
    "mag_true[12:16,2] = mean_dec3"
   ]
  },
  {
   "cell_type": "code",
   "execution_count": 15,
   "metadata": {
    "collapsed": false
   },
   "outputs": [
    {
     "data": {
      "text/plain": [
       "array([[  129.92212   ,    27.24332   ,   169.53416333],\n",
       "       [  672.23611   ,    27.24332   ,   169.53416333],\n",
       "       [  989.74406   ,    27.24332   ,   169.53416333],\n",
       "       [  995.30656   ,    27.24332   ,   169.53416333],\n",
       "       [  564.86695   ,    51.82968   ,    12.34095333],\n",
       "       [ 1349.6365    ,    51.82968   ,    12.34095333],\n",
       "       [ 1097.40121   ,    51.82968   ,    12.34095333],\n",
       "       [ 1151.47208   ,    51.82968   ,    12.34095333],\n",
       "       [  355.92525   ,   -75.26593333,    -5.71008333],\n",
       "       [ 1283.29386   ,   -75.26593333,    -5.71008333],\n",
       "       [ 1130.91748   ,   -75.26593333,    -5.71008333],\n",
       "       [ 1315.05326   ,   -75.26593333,    -5.71008333],\n",
       "       [  287.10237   ,    84.64351   ,    93.52862   ],\n",
       "       [ 1232.04768   ,    84.64351   ,    93.52862   ],\n",
       "       [ 1243.42849   ,    84.64351   ,    93.52862   ],\n",
       "       [ 1126.42339   ,    84.64351   ,    93.52862   ]])"
      ]
     },
     "execution_count": 15,
     "metadata": {},
     "output_type": "execute_result"
    }
   ],
   "source": [
    "mag_true"
   ]
  },
  {
   "cell_type": "markdown",
   "metadata": {},
   "source": [
    "### Parameters of the sample"
   ]
  },
  {
   "cell_type": "code",
   "execution_count": 16,
   "metadata": {
    "collapsed": true
   },
   "outputs": [],
   "source": [
    "N = 16 # number of prisms forming the sample\n",
    "M = 3*N # number of parameters to be estimated\n",
    "\n",
    "Lx = 0.001 # in m\n",
    "Ly = 0.003 # in m\n",
    "Lz = Ly  # in m\n",
    "\n",
    "shape = (42,102) # (Ny, Nx)"
   ]
  },
  {
   "cell_type": "code",
   "execution_count": 17,
   "metadata": {
    "collapsed": true
   },
   "outputs": [],
   "source": [
    "xmin_sample = -0.5*Lx*N #in m\n",
    "centers = [100.*(xmin_sample + 0.5*Lx + i*Lx) for i in range(N)] #in cm"
   ]
  },
  {
   "cell_type": "markdown",
   "metadata": {},
   "source": [
    "### Synthetic Sample"
   ]
  },
  {
   "cell_type": "code",
   "execution_count": 18,
   "metadata": {
    "collapsed": true
   },
   "outputs": [],
   "source": [
    "sample = f.sample(Lx,Ly,Lz,N, m = mag_true[:,0], inc = mag_true[:,1], dec = mag_true[:,2])"
   ]
  },
  {
   "cell_type": "markdown",
   "metadata": {},
   "source": [
    "### Synthetic data"
   ]
  },
  {
   "cell_type": "markdown",
   "metadata": {},
   "source": [
    "The cell below introduces "
   ]
  },
  {
   "cell_type": "code",
   "execution_count": 19,
   "metadata": {
    "collapsed": false
   },
   "outputs": [],
   "source": [
    "# Simulate a Gaussian noise with null mean\n",
    "stdev_data = 30000.0 # nT\n",
    "\n",
    "# Simulate constant bias added to the observed data on each plane\n",
    "b0 = -26000. # uT\n",
    "b1 = -10000. # uT\n",
    "b2 = -26000. # uT\n",
    "b3 = -13000. # uT\n",
    "\n",
    "#b0 = 0. # uT\n",
    "#b1 = 0. # uT\n",
    "#b2 = 0. # uT\n",
    "#b3 = 0. # uT\n",
    "\n",
    "# Simulate sensor-to-sample errors\n",
    "#dh0 = (10.**-6)*(80.) # m\n",
    "#dh1 = (10.**-6)*(-170.) # m\n",
    "#dh2 = (10.**-6)*(-100.) # m\n",
    "#dh3 = (10.**-6)*(270.) # m\n",
    "\n",
    "dh0 = 0. # m\n",
    "dh1 = 0. # m\n",
    "dh2 = 0. # m\n",
    "dh3 = 0. # m\n",
    "\n",
    "B_obs = [contaminate(prism.bz(data[0][:,0], data[0][:,1], data[0][:,2] + dh0, sample), stddev = stdev_data) + b0,\n",
    "         contaminate(prism.by(data[1][:,0], data[1][:,1] + dh1, data[1][:,2], sample), stddev = stdev_data) + b1,\n",
    "         contaminate(prism.bz(data[2][:,0], data[2][:,1], data[2][:,2] + dh2, sample), stddev = stdev_data) + b2,\n",
    "         contaminate(prism.by(data[3][:,0], data[3][:,1] + dh3, data[3][:,2], sample), stddev = stdev_data) + b3]"
   ]
  },
  {
   "cell_type": "markdown",
   "metadata": {},
   "source": [
    "### Interpretation model"
   ]
  },
  {
   "cell_type": "code",
   "execution_count": 20,
   "metadata": {
    "collapsed": false
   },
   "outputs": [],
   "source": [
    "model = f.sample(Lx,Ly,Lz,N)"
   ]
  },
  {
   "cell_type": "code",
   "execution_count": null,
   "metadata": {
    "collapsed": false
   },
   "outputs": [],
   "source": [
    "xmin = np.min([data_error[0][:,0], data_error[1][:,0], data_error[2][:,0], data_error[3][:,0]])\n",
    "xmax = np.max([data_error[0][:,0], data_error[1][:,0], data_error[2][:,0], data_error[3][:,0]])\n",
    "ymin = np.min([data_error[0][:,1], data_error[1][:,1], data_error[2][:,1], data_error[3][:,1]])\n",
    "ymax = np.max([data_error[0][:,1], data_error[1][:,1], data_error[2][:,1], data_error[3][:,1]])\n",
    "zmin = np.min([data_error[0][:,2], data_error[1][:,2], data_error[2][:,2], data_error[3][:,2]])\n",
    "zmax = np.max([data_error[0][:,2], data_error[1][:,2], data_error[2][:,2], data_error[3][:,2]])\n",
    "\n",
    "volume = [xmin, xmax, ymin, ymax, zmin, zmax]"
   ]
  },
  {
   "cell_type": "code",
   "execution_count": null,
   "metadata": {
    "collapsed": false
   },
   "outputs": [],
   "source": [
    "scene = myv.figure()\n",
    "myv.prisms(model, color= (0.4,0.4,0.4))\n",
    "\n",
    "myv.points(np.vstack((data_error[0][:,0], data_error[0][:,1], data_error[0][:,2])).T, \n",
    "           color=(1, 0, 0), size=0.00005, opacity=1, spherical=False)\n",
    "myv.points(np.vstack((data_error[1][:,0], data_error[1][:,1], data_error[1][:,2])).T, \n",
    "           color=(0, 0, 1), size=0.00005, opacity=1, spherical=False)\n",
    "myv.points(np.vstack((data_error[2][:,0], data_error[2][:,1], data_error[2][:,2])).T, \n",
    "           color=(0, 1, 0), size=0.00005, opacity=1, spherical=False)\n",
    "myv.points(np.vstack((data_error[3][:,0], data_error[3][:,1], data_error[3][:,2])).T, \n",
    "           color=(0, 0, 0), size=0.00005, opacity=1, spherical=False)\n",
    "\n",
    "\n",
    "\n",
    "ax = myv.axes(myv.outline(volume), ranges=[b for b in volume], nlabels=5, fmt='%.3f')\n",
    "ax.axes.x_label, ax.axes.y_label, ax.axes.z_label = 'x (cm)', 'y (cm)', 'z (cm)'\n",
    "ax.axes.font_factor = 1.2\n",
    "myv.wall_bottom(ax.axes.bounds, opacity=0.2)\n",
    "myv.wall_north(ax.axes.bounds)\n",
    "#myv.savefig('model.png')\n",
    "myv.show()\n",
    "#Image(filename='model.png')"
   ]
  },
  {
   "cell_type": "markdown",
   "metadata": {},
   "source": [
    "### Inversion"
   ]
  },
  {
   "cell_type": "code",
   "execution_count": null,
   "metadata": {
    "collapsed": true
   },
   "outputs": [],
   "source": [
    "A = []\n",
    "for i in range(4):\n",
    "    A.append(f.sensitivity(N, data_error[i][:,0], data_error[i][:,1], data_error[i][:,2], model,i))"
   ]
  },
  {
   "cell_type": "code",
   "execution_count": null,
   "metadata": {
    "collapsed": false
   },
   "outputs": [],
   "source": [
    "R = np.zeros(M+1)\n",
    "R[0] = 1.\n",
    "R[3] = -1.\n",
    "R = np.resize(R, (M-3,M))"
   ]
  },
  {
   "cell_type": "code",
   "execution_count": null,
   "metadata": {
    "collapsed": false
   },
   "outputs": [],
   "source": [
    "u0 = 0."
   ]
  },
  {
   "cell_type": "code",
   "execution_count": null,
   "metadata": {
    "collapsed": true
   },
   "outputs": [],
   "source": [
    "H = np.dot(np.vstack(A).T, np.vstack(A))"
   ]
  },
  {
   "cell_type": "code",
   "execution_count": null,
   "metadata": {
    "collapsed": false
   },
   "outputs": [],
   "source": [
    "f0 = np.trace(H)/M\n",
    "f0"
   ]
  },
  {
   "cell_type": "code",
   "execution_count": null,
   "metadata": {
    "collapsed": true
   },
   "outputs": [],
   "source": [
    "H = H + u0*f0*np.dot(R.T, R)"
   ]
  },
  {
   "cell_type": "code",
   "execution_count": null,
   "metadata": {
    "collapsed": true
   },
   "outputs": [],
   "source": [
    "h = np.dot(np.vstack(A).T, np.hstack(B_obs))"
   ]
  },
  {
   "cell_type": "code",
   "execution_count": null,
   "metadata": {
    "collapsed": true
   },
   "outputs": [],
   "source": [
    "p_est = np.linalg.solve(H, h)"
   ]
  },
  {
   "cell_type": "code",
   "execution_count": null,
   "metadata": {
    "collapsed": false
   },
   "outputs": [],
   "source": [
    "#p_est = f.L2_norm(np.vstack(A),np.hstack(B_obs))\n",
    "#p_est = f.L2_norm(np.vstack((A[1],A[2],A[3])),np.hstack((B_obs[1],B_obs[2], B_obs[3])))\n",
    "#p_est = f.L2_norm(np.vstack((A[0],A[1],A[2])),np.hstack((B_obs[0],B_obs[1], B_obs[2])))\n",
    "#p_est = f.L2_norm(np.vstack((A[1],A[2])),np.hstack((B_obs[1],B_obs[2])))\n",
    "#p_est = f.L2_norm(np.array(A[1]),np.array(B_obs[1]))\n",
    "#p_est = f.L2_norm(np.array(A[0]),np.array(B_obs[0]))"
   ]
  },
  {
   "cell_type": "code",
   "execution_count": null,
   "metadata": {
    "collapsed": false
   },
   "outputs": [],
   "source": [
    "mag_r = f.parameters_sph(N,p_est)"
   ]
  },
  {
   "cell_type": "code",
   "execution_count": null,
   "metadata": {
    "collapsed": true
   },
   "outputs": [],
   "source": [
    "B_pre = []\n",
    "for i in range(4):\n",
    "    B_pre.append(np.dot(A[i],p_est))"
   ]
  },
  {
   "cell_type": "code",
   "execution_count": null,
   "metadata": {
    "collapsed": true
   },
   "outputs": [],
   "source": [
    "r_norm = []\n",
    "r_mean = []\n",
    "r_std = []\n",
    "\n",
    "for i in range(4):\n",
    "    aux1,aux2,aux3 = f.residual(0.001*B_obs[i],0.001*B_pre[i])\n",
    "    r_norm.append(aux1) # in uT\n",
    "    r_mean.append(aux2) # in uT\n",
    "    r_std.append(aux3)  # in uT"
   ]
  },
  {
   "cell_type": "markdown",
   "metadata": {},
   "source": [
    "### Plotting of the observed and predicted data "
   ]
  },
  {
   "cell_type": "code",
   "execution_count": null,
   "metadata": {
    "collapsed": false
   },
   "outputs": [],
   "source": [
    "title_font = 22\n",
    "bottom_font = 16\n",
    "\n",
    "labels = ['(a)', '(b)', '(c)', \n",
    "          '(d)', '(e)', '(f)',\n",
    "          '(g)', '(h)', '(i)',\n",
    "          '(j)', '(k)', '(l)']\n",
    "\n",
    "lables_place = (0.05, 0.90)\n",
    "lables_size = 24\n",
    "\n",
    "mpl.close('all')\n",
    "mpl.figure(figsize=(20,24), tight_layout=True)\n",
    "\n",
    "for i in range(0,4,2):\n",
    "\n",
    "    # in uT\n",
    "    ranges = 0.001*np.abs([B_obs[i].max(), B_obs[i].min(),\n",
    "                           B_pre[i].max(), B_pre[i].min()]).max()\n",
    "\n",
    "    mpl.subplot(4,3,1 + 3*i)\n",
    "\n",
    "    #mpl.title(labels[3*i], fontsize=title_font)\n",
    "    nlevels = mpl.contourf(100.*data_error[i][:,1], 100.*data_error[i][:,0], 0.001*B_obs[i], \n",
    "                           shape, 20, cmap=mpl.cm.RdBu_r,\n",
    "                           vmin=-ranges, vmax=ranges)\n",
    "    #mpl.colorbar(pad=0.01, aspect=40, shrink=1.0).set_label('uT')\n",
    "    mpl.colorbar(pad=0.01, aspect=40, shrink=1.0)\n",
    "    mpl.xlabel('y (cm)', fontsize = title_font)\n",
    "    mpl.ylabel('x (cm)', fontsize = title_font)\n",
    "    mpl.annotate(labels[3*i], xy = lables_place, \n",
    "                 xycoords = 'axes fraction', fontsize=lables_size)\n",
    "\n",
    "    mpl.subplot(4,3,1 + 3*i + 1)\n",
    "\n",
    "    #mpl.title(labels[3*i + 1], fontsize=title_font)\n",
    "    nlevels = mpl.contourf(100.*data_error[i][:,1], 100.*data_error[i][:,0], 0.001*B_pre[i], \n",
    "                           shape, 20, cmap=mpl.cm.RdBu_r,\n",
    "                           vmin=-ranges, vmax=ranges)\n",
    "    #mpl.colorbar(pad=0.01, aspect=40, shrink=1.0).set_label('uT')\n",
    "    mpl.colorbar(pad=0.01, aspect=40, shrink=1.0)\n",
    "    mpl.xlabel('y (cm)', fontsize = title_font)\n",
    "    mpl.ylabel('x (cm)', fontsize = title_font)\n",
    "    mpl.annotate(labels[3*i + 1], xy = lables_place, \n",
    "                 xycoords = 'axes fraction', fontsize=lables_size)\n",
    "\n",
    "    mpl.subplot(4,3,1 + 3*i + 2)\n",
    "    #mpl.title(labels[3*i + 2], fontsize=title_font)\n",
    "    mpl.xlabel('$\\mu$ = %.3f uT | $\\sigma$ = %.3f uT' % (r_mean[i], r_std[i]), fontsize = title_font)\n",
    "    nbins = int((np.max(r_norm[i]) - np.min(r_norm[i])))\n",
    "    mpl.hist(r_norm[i],bins=nbins,normed=True)\n",
    "    mpl.ylim(0.,0.6)\n",
    "    mpl.xlim(-10., 10.)\n",
    "    mpl.annotate(labels[3*i + 2], xy = lables_place, \n",
    "                 xycoords = 'axes fraction', fontsize=lables_size)\n",
    "    \n",
    "for i in range(1,4,2):\n",
    "\n",
    "    # in uT\n",
    "    ranges = 0.001*np.abs([B_obs[i].max(), B_obs[i].min(),\n",
    "                           B_pre[i].max(), B_pre[i].min()]).max()\n",
    "\n",
    "    mpl.subplot(4,3,1 + 3*i)\n",
    "\n",
    "    #mpl.title(labels[3*i], fontsize=title_font)\n",
    "    nlevels = mpl.contourf(100.*data_error[i][:,2], 100.*data_error[i][:,0], 0.001*B_obs[i], \n",
    "                           shape, 20, cmap=mpl.cm.RdBu_r,\n",
    "                           vmin=-ranges, vmax=ranges)\n",
    "    #mpl.colorbar(pad=0.01, aspect=40, shrink=1.0).set_label('uT')\n",
    "    mpl.colorbar(pad=0.01, aspect=40, shrink=1.0)\n",
    "    mpl.xlabel('z (cm)', fontsize = title_font)\n",
    "    mpl.ylabel('x (cm)', fontsize = title_font)\n",
    "    mpl.annotate(labels[3*i], xy = lables_place, \n",
    "                 xycoords = 'axes fraction', fontsize=lables_size)\n",
    "\n",
    "    mpl.subplot(4,3,1 + 3*i + 1)\n",
    "\n",
    "    #mpl.title(labels[3*i + 1], fontsize=title_font)\n",
    "    nlevels = mpl.contourf(100.*data_error[i][:,2], 100.*data_error[i][:,0], 0.001*B_pre[i], \n",
    "                           shape, 20, cmap=mpl.cm.RdBu_r,\n",
    "                           vmin=-ranges, vmax=ranges)\n",
    "    #mpl.colorbar(pad=0.01, aspect=40, shrink=1.0).set_label('uT')\n",
    "    mpl.colorbar(pad=0.01, aspect=40, shrink=1.0)\n",
    "    mpl.xlabel('z (cm)', fontsize = title_font)\n",
    "    mpl.ylabel('x (cm)', fontsize = title_font)\n",
    "    mpl.annotate(labels[3*i+1], xy = lables_place, \n",
    "                 xycoords = 'axes fraction', fontsize=lables_size)\n",
    "\n",
    "    mpl.subplot(4,3,1 + 3*i + 2)\n",
    "    #mpl.title(labels[3*i + 2], fontsize=title_font)\n",
    "    mpl.xlabel('$\\mu$ = %.3f uT | $\\sigma$ = %.3f uT' % (r_mean[i], r_std[i]), fontsize = title_font)\n",
    "    nbins = int((np.max(r_norm[i]) - np.min(r_norm[i])))\n",
    "    mpl.hist(r_norm[i],bins=nbins,normed=True)\n",
    "    mpl.ylim(0.,0.6)\n",
    "    mpl.xlim(-10., 10.)\n",
    "    mpl.annotate(labels[3*i+2], xy = lables_place, \n",
    "                 xycoords = 'axes fraction', fontsize=lables_size)\n",
    "\n",
    "mpl.savefig('..\\\\manuscript\\\\Figs\\\\Fig7_HQ.eps')\n",
    "mpl.savefig('..\\\\manuscript\\\\Figs\\\\Fig7_LQ.png')\n",
    "\n",
    "mpl.show()"
   ]
  },
  {
   "cell_type": "code",
   "execution_count": null,
   "metadata": {
    "collapsed": false
   },
   "outputs": [],
   "source": [
    "mpl.figure(figsize=(8,8))\n",
    "ax = mpl.subplot(111, polar=True)\n",
    "ax.set_theta_direction(-1) \n",
    "ax.set_theta_zero_location('N') \n",
    "ax.set_rgrids([0.2,0.4,0.6,0.8], angle=90.)\n",
    "\n",
    "f.proj_polar(4,mag_true[:4,:],color='r',simbolo='D',size=16)\n",
    "f.proj_polar(4,mag_true[4:8,:],color='g',simbolo='s',size=16)\n",
    "f.proj_polar(4,mag_true[8:12,:],color='b',simbolo='D',size=16)\n",
    "f.proj_polar(4,mag_true[12:16,:],color='k',simbolo='s',size=16)\n",
    "\n",
    "f.proj_polar(4,mag_r[:4,:],color='r',size=10)\n",
    "f.proj_polar(4,mag_r[4:8,:],color='g',size=10)\n",
    "f.proj_polar(4,mag_r[8:12,:],color='b',size=10)\n",
    "f.proj_polar(4,mag_r[12:16,:],color='k',size=10)\n",
    "\n",
    "mpl.xticks(fontsize=20) \n",
    "mpl.yticks(fontsize=14) \n",
    "mpl.ylim(0.0, 1.0)\n",
    "#mpl.savefig('estimate_polar_simul_preprocessing.png')\n",
    "mpl.show() "
   ]
  },
  {
   "cell_type": "code",
   "execution_count": null,
   "metadata": {
    "collapsed": false
   },
   "outputs": [],
   "source": [
    "mpl.figure(figsize=(12,12))\n",
    "\n",
    "ax = mpl.subplot(221, polar=True)\n",
    "ax.set_theta_direction(-1) \n",
    "ax.set_theta_zero_location('N') \n",
    "ax.set_rgrids([0.2,0.4,0.6,0.8,1.0], angle=90.)\n",
    "f.proj_polar(4,mag_true[:4,:],color='r',simbolo='D',size=16)\n",
    "f.proj_polar(4,mag_r[:4,:],color='b',size=10)\n",
    "\n",
    "mpl.xticks(fontsize=16) \n",
    "mpl.yticks(fontsize=14) \n",
    "mpl.ylim(0.0, 1.2)\n",
    "\n",
    "ax = mpl.subplot(222, polar=True)\n",
    "ax.set_theta_direction(-1) \n",
    "ax.set_theta_zero_location('N') \n",
    "ax.set_rgrids([0.2,0.4,0.6,0.8,1.0], angle=90.)\n",
    "\n",
    "f.proj_polar(4,mag_true[4:8,:],color='r',simbolo='s',size=16)\n",
    "f.proj_polar(4,mag_r[4:8,:],color='b',size=10)\n",
    "\n",
    "mpl.xticks(fontsize=16) \n",
    "mpl.yticks(fontsize=14) \n",
    "mpl.ylim(0.0, 1.2)\n",
    "\n",
    "ax = mpl.subplot(223, polar=True)\n",
    "ax.set_theta_direction(-1) \n",
    "ax.set_theta_zero_location('N') \n",
    "ax.set_rgrids([0.2,0.4,0.6,0.8,1.0], angle=90.)\n",
    "\n",
    "f.proj_polar(4,mag_true[8:12,:],color='r',simbolo='D',size=16)\n",
    "f.proj_polar(4,mag_r[8:12,:],color='b',size=10)\n",
    "\n",
    "mpl.xticks(fontsize=16) \n",
    "mpl.yticks(fontsize=14) \n",
    "mpl.ylim(0.0, 1.2)\n",
    "\n",
    "ax = mpl.subplot(224, polar=True)\n",
    "ax.set_theta_direction(-1) \n",
    "ax.set_theta_zero_location('N') \n",
    "ax.set_rgrids([0.2,0.4,0.6,0.8,1.0], angle=90.)\n",
    "\n",
    "f.proj_polar(4,mag_true[12:16,:],color='r',simbolo='s',size=16)\n",
    "f.proj_polar(4,mag_r[12:16,:],color='b',size=10)\n",
    "\n",
    "mpl.xticks(fontsize=16) \n",
    "mpl.yticks(fontsize=14) \n",
    "mpl.ylim(0.0, 1.2)\n",
    "\n",
    "mpl.tight_layout(w_pad=5.)\n",
    "\n",
    "#mpl.savefig('estimate_polar_simul.png')\n",
    "\n",
    "mpl.show() "
   ]
  },
  {
   "cell_type": "code",
   "execution_count": null,
   "metadata": {
    "collapsed": false
   },
   "outputs": [],
   "source": [
    "label_font = 20\n",
    "legend_font = 16\n",
    "\n",
    "labels = ['(a)', '(b)', '(c)']\n",
    "\n",
    "lables_place = (0.03, 0.90)\n",
    "lables_size = 24\n",
    "\n",
    "mpl.show()\n",
    "mpl.close('all')\n",
    "mpl.figure(figsize=(8, 16), tight_layout=True)\n",
    "\n",
    "mpl.subplot(3,1,1)\n",
    "#mpl.plot([np.min(centers), np.max(centers)], [1200.0, 1200.0], 'k--',\n",
    "#         label='Saturation magnetization')\n",
    "mpl.plot(centers, mag_true[:,0], 'r-', linewidth=2)\n",
    "mpl.plot(centers, mag_true[:,0], 'ro', markersize=10, label='True')\n",
    "mpl.plot(centers, mag_r[:,0], 'b--', linewidth=2)\n",
    "mpl.plot(centers, mag_r[:,0], 'bo', markersize=10,label='Estimated')\n",
    "mpl.ylabel('Intensity ($A/m$)', fontsize=label_font)\n",
    "mpl.ylim(0., np.max(mag_r[:,0]) + 200.)\n",
    "#mpl.legend(loc='best', numpoints=1)\n",
    "mpl.annotate(labels[0], xy = lables_place, \n",
    "                 xycoords = 'axes fraction', fontsize=lables_size)\n",
    "\n",
    "mpl.subplot(3,1,2)\n",
    "mpl.plot([np.min(centers), np.max(centers)], [0.0, 0.0], 'k--')\n",
    "#mpl.plot([np.min(centers), np.max(centers)], [45.0, 45.0], 'k--')\n",
    "#mpl.plot([np.min(centers), np.max(centers)], [90.0, 90.0], 'k--')\n",
    "#mpl.plot([np.min(centers), np.max(centers)], [-90.0, -90.0], 'k--')\n",
    "mpl.plot(centers, mag_true[:,1], 'r-', linewidth=2)\n",
    "mpl.plot(centers, mag_true[:,1], 'ro', markersize=10, label='True')\n",
    "mpl.plot(centers, mag_r[:,1], 'b--', linewidth=2)\n",
    "mpl.plot(centers, mag_r[:,1], 'bo', markersize=10, label='Estimated')\n",
    "mpl.ylabel('Inclination ($^{\\circ}$)', fontsize=label_font)\n",
    "mpl.ylim(np.min(mag_r[:,1]) - 20., np.max(mag_r[:,1]) + 20.)\n",
    "#mpl.legend(loc='best', numpoints=1)\n",
    "mpl.annotate(labels[1], xy = lables_place, \n",
    "                 xycoords = 'axes fraction', fontsize=lables_size)\n",
    "\n",
    "mpl.subplot(3,1,3)\n",
    "mpl.plot([np.min(centers), np.max(centers)], [0.0, 0.0], 'k--')\n",
    "#mpl.plot([np.min(centers), np.max(centers)], [180.0, 180.0], 'k--')\n",
    "mpl.plot(centers, mag_true[:,2], 'r-', linewidth=2)\n",
    "mpl.plot(centers, mag_true[:,2], 'ro', markersize=10, label='True')\n",
    "mpl.plot(centers, mag_r[:,2], 'b--', linewidth=2)\n",
    "mpl.plot(centers, mag_r[:,2], 'bo', markersize=10, label='Estimated')\n",
    "mpl.ylabel('Declination ($^{\\circ}$)', fontsize=label_font)\n",
    "#mpl.xlabel('Sample length ($cm$)', fontsize=label_font)\n",
    "mpl.xlabel('$x$ ($cm$)', fontsize=label_font)\n",
    "mpl.ylim(np.min(mag_r[:,2]) - 20., np.max(mag_r[:,2]) + 20.)\n",
    "#mpl.savefig('estimate_int_inc_dec_simul_validation.eps')\n",
    "#mpl.legend(loc='best', numpoints=1)\n",
    "mpl.annotate(labels[2], xy = (0.90, 0.90), \n",
    "                 xycoords = 'axes fraction', fontsize=lables_size)\n",
    "\n",
    "mpl.savefig('..\\\\manuscript\\\\Figs\\\\Fig8_HQ.eps')\n",
    "mpl.savefig('..\\\\manuscript\\\\Figs\\\\Fig8_LQ.png')\n",
    "\n",
    "mpl.show()"
   ]
  },
  {
   "cell_type": "code",
   "execution_count": null,
   "metadata": {
    "collapsed": true
   },
   "outputs": [],
   "source": []
  }
 ],
 "metadata": {
  "kernelspec": {
   "display_name": "Python 2",
   "language": "python",
   "name": "python2"
  },
  "language_info": {
   "codemirror_mode": {
    "name": "ipython",
    "version": 2
   },
   "file_extension": ".py",
   "mimetype": "text/x-python",
   "name": "python",
   "nbconvert_exporter": "python",
   "pygments_lexer": "ipython2",
   "version": "2.7.9"
  }
 },
 "nbformat": 4,
 "nbformat_minor": 0
}
