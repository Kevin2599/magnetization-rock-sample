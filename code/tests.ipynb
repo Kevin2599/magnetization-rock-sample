{
 "cells": [
  {
   "cell_type": "markdown",
   "metadata": {},
   "source": [
    "# Testing functions"
   ]
  },
  {
   "cell_type": "code",
   "execution_count": 1,
   "metadata": {
    "collapsed": true
   },
   "outputs": [],
   "source": [
    "%matplotlib inline\n",
    "import numpy as np\n",
    "import matplotlib.pyplot as plt"
   ]
  },
  {
   "cell_type": "code",
   "execution_count": 2,
   "metadata": {
    "collapsed": false
   },
   "outputs": [],
   "source": [
    "def point2grid(x, y, effective_area, ns):\n",
    "    '''\n",
    "    Creates a regular grid of Qx x Qy points\n",
    "    over the effective_area centered at each point\n",
    "    (x,y).\n",
    "    \n",
    "    input\n",
    "    x: numpy array 1D - x coordinates of the points (in meters).\n",
    "    y: numpy array 1D - y coordinates of the points (in meters).\n",
    "    effective_area: tuple - x and y dimensions (in microns) of the area.\n",
    "    ns: int - number of points along the x- and y-axis.\n",
    "    \n",
    "    output\n",
    "    \n",
    "    xgrid: numpy array 1D - x coordinates of the grid (in meters).\n",
    "    ygrid: numpy array 1D - y coordinates of the grid (in meters.\n",
    "    '''\n",
    "    \n",
    "    assert (effective_area[0] > 0) and (effective_area[1] > 0), \\\n",
    "    'effective area must be positive'\n",
    "        \n",
    "    assert x.size == y.size, 'x and y must have the same number of elements'\n",
    "    \n",
    "    assert ns%2 != 0, 'ns must be odd'\n",
    "        \n",
    "    dx = 0.000001*effective_area[0]/ns\n",
    "    dy = 0.000001*effective_area[1]/ns\n",
    "    \n",
    "    ns2 = int(ns//2)\n",
    "    Q = int(ns*ns)\n",
    "    \n",
    "    x_small_grid, y_small_grid = np.meshgrid(dx*np.arange(-ns2, ns2+1), dy*np.arange(-ns2, ns2+1))\n",
    "    \n",
    "    #print x_small_grid\n",
    "    #print y_small_grid\n",
    "    \n",
    "    x_grid = np.resize(x, Q*x.size).reshape(Q,x.size).T.ravel()\n",
    "    y_grid = np.resize(y, Q*y.size).reshape(Q,y.size).T.ravel()\n",
    "    \n",
    "    for i, xi in enumerate(x):\n",
    "        x_grid[i*Q:(i+1)*Q] += x_small_grid.ravel()\n",
    "    for i, yi in enumerate(y):\n",
    "        y_grid[i*Q:(i+1)*Q] += y_small_grid.ravel()\n",
    "    \n",
    "    return x_grid.ravel(), y_grid.ravel()"
   ]
  },
  {
   "cell_type": "code",
   "execution_count": 3,
   "metadata": {
    "collapsed": true
   },
   "outputs": [],
   "source": [
    "x, y = np.meshgrid(np.arange(3, dtype='float'), np.arange(3, dtype='float')+1.)\n",
    "x = x.ravel()\n",
    "y = y.ravel()\n",
    "\n",
    "ns = 5\n",
    "ns2 = int(ns//2)\n",
    "\n",
    "effective_area = (600000., 600000.)"
   ]
  },
  {
   "cell_type": "code",
   "execution_count": 4,
   "metadata": {
    "collapsed": false
   },
   "outputs": [],
   "source": [
    "xg, yg = point2grid(x, y, effective_area, ns)"
   ]
  },
  {
   "cell_type": "code",
   "execution_count": 5,
   "metadata": {
    "collapsed": false
   },
   "outputs": [
    {
     "data": {
      "image/png": "[encoded data removed]",
      "text/plain": [
       "<matplotlib.figure.Figure at 0x4042278>"
      ]
     },
     "metadata": {},
     "output_type": "display_data"
    }
   ],
   "source": [
    "plt.figure(figsize=(10,10))\n",
    "plt.plot(x, y, 'ro')\n",
    "plt.plot(xg, yg, 'bx')\n",
    "plt.show()"
   ]
  },
  {
   "cell_type": "code",
   "execution_count": 6,
   "metadata": {
    "collapsed": false
   },
   "outputs": [
    {
     "ename": "AssertionError",
     "evalue": "ns must be odd",
     "output_type": "error",
     "traceback": [
      "\u001b[1;31m---------------------------------------------------------------------------\u001b[0m",
      "\u001b[1;31mAssertionError\u001b[0m                            Traceback (most recent call last)",
      "\u001b[1;32m<ipython-input-6-c3b5160a2daa>\u001b[0m in \u001b[0;36m<module>\u001b[1;34m()\u001b[0m\n\u001b[1;32m----> 1\u001b[1;33m \u001b[0mxg\u001b[0m\u001b[1;33m,\u001b[0m \u001b[0myg\u001b[0m \u001b[1;33m=\u001b[0m \u001b[0mpoint2grid\u001b[0m\u001b[1;33m(\u001b[0m\u001b[0mx\u001b[0m\u001b[1;33m,\u001b[0m \u001b[0my\u001b[0m\u001b[1;33m,\u001b[0m \u001b[0meffective_area\u001b[0m\u001b[1;33m,\u001b[0m \u001b[1;36m4\u001b[0m\u001b[1;33m)\u001b[0m\u001b[1;33m\u001b[0m\u001b[0m\n\u001b[0m",
      "\u001b[1;32m<ipython-input-2-8d4311ea914d>\u001b[0m in \u001b[0;36mpoint2grid\u001b[1;34m(x, y, effective_area, ns)\u001b[0m\n\u001b[0;32m     21\u001b[0m     \u001b[1;32massert\u001b[0m \u001b[0mx\u001b[0m\u001b[1;33m.\u001b[0m\u001b[0msize\u001b[0m \u001b[1;33m==\u001b[0m \u001b[0my\u001b[0m\u001b[1;33m.\u001b[0m\u001b[0msize\u001b[0m\u001b[1;33m,\u001b[0m \u001b[1;34m'x and y must have the same number of elements'\u001b[0m\u001b[1;33m\u001b[0m\u001b[0m\n\u001b[0;32m     22\u001b[0m \u001b[1;33m\u001b[0m\u001b[0m\n\u001b[1;32m---> 23\u001b[1;33m     \u001b[1;32massert\u001b[0m \u001b[0mns\u001b[0m\u001b[1;33m%\u001b[0m\u001b[1;36m2\u001b[0m \u001b[1;33m!=\u001b[0m \u001b[1;36m0\u001b[0m\u001b[1;33m,\u001b[0m \u001b[1;34m'ns must be odd'\u001b[0m\u001b[1;33m\u001b[0m\u001b[0m\n\u001b[0m\u001b[0;32m     24\u001b[0m \u001b[1;33m\u001b[0m\u001b[0m\n\u001b[0;32m     25\u001b[0m     \u001b[0mdx\u001b[0m \u001b[1;33m=\u001b[0m \u001b[1;36m0.000001\u001b[0m\u001b[1;33m*\u001b[0m\u001b[0meffective_area\u001b[0m\u001b[1;33m[\u001b[0m\u001b[1;36m0\u001b[0m\u001b[1;33m]\u001b[0m\u001b[1;33m/\u001b[0m\u001b[0mns\u001b[0m\u001b[1;33m\u001b[0m\u001b[0m\n",
      "\u001b[1;31mAssertionError\u001b[0m: ns must be odd"
     ]
    }
   ],
   "source": [
    "xg, yg = point2grid(x, y, effective_area, 4)"
   ]
  },
  {
   "cell_type": "code",
   "execution_count": 7,
   "metadata": {
    "collapsed": false
   },
   "outputs": [
    {
     "ename": "AssertionError",
     "evalue": "effective area must be positive",
     "output_type": "error",
     "traceback": [
      "\u001b[1;31m---------------------------------------------------------------------------\u001b[0m",
      "\u001b[1;31mAssertionError\u001b[0m                            Traceback (most recent call last)",
      "\u001b[1;32m<ipython-input-7-44817b56315b>\u001b[0m in \u001b[0;36m<module>\u001b[1;34m()\u001b[0m\n\u001b[1;32m----> 1\u001b[1;33m \u001b[0mxg\u001b[0m\u001b[1;33m,\u001b[0m \u001b[0myg\u001b[0m \u001b[1;33m=\u001b[0m \u001b[0mpoint2grid\u001b[0m\u001b[1;33m(\u001b[0m\u001b[0mx\u001b[0m\u001b[1;33m,\u001b[0m \u001b[0my\u001b[0m\u001b[1;33m,\u001b[0m \u001b[1;33m(\u001b[0m\u001b[1;33m-\u001b[0m\u001b[1;36m100000.\u001b[0m\u001b[1;33m,\u001b[0m \u001b[1;36m100000.\u001b[0m\u001b[1;33m)\u001b[0m\u001b[1;33m,\u001b[0m \u001b[0mns\u001b[0m\u001b[1;33m)\u001b[0m\u001b[1;33m\u001b[0m\u001b[0m\n\u001b[0m",
      "\u001b[1;32m<ipython-input-2-8d4311ea914d>\u001b[0m in \u001b[0;36mpoint2grid\u001b[1;34m(x, y, effective_area, ns)\u001b[0m\n\u001b[0;32m     17\u001b[0m     '''\n\u001b[0;32m     18\u001b[0m \u001b[1;33m\u001b[0m\u001b[0m\n\u001b[1;32m---> 19\u001b[1;33m     \u001b[1;32massert\u001b[0m \u001b[1;33m(\u001b[0m\u001b[0meffective_area\u001b[0m\u001b[1;33m[\u001b[0m\u001b[1;36m0\u001b[0m\u001b[1;33m]\u001b[0m \u001b[1;33m>\u001b[0m \u001b[1;36m0\u001b[0m\u001b[1;33m)\u001b[0m \u001b[1;32mand\u001b[0m \u001b[1;33m(\u001b[0m\u001b[0meffective_area\u001b[0m\u001b[1;33m[\u001b[0m\u001b[1;36m1\u001b[0m\u001b[1;33m]\u001b[0m \u001b[1;33m>\u001b[0m \u001b[1;36m0\u001b[0m\u001b[1;33m)\u001b[0m\u001b[1;33m,\u001b[0m     \u001b[1;34m'effective area must be positive'\u001b[0m\u001b[1;33m\u001b[0m\u001b[0m\n\u001b[0m\u001b[0;32m     20\u001b[0m \u001b[1;33m\u001b[0m\u001b[0m\n\u001b[0;32m     21\u001b[0m     \u001b[1;32massert\u001b[0m \u001b[0mx\u001b[0m\u001b[1;33m.\u001b[0m\u001b[0msize\u001b[0m \u001b[1;33m==\u001b[0m \u001b[0my\u001b[0m\u001b[1;33m.\u001b[0m\u001b[0msize\u001b[0m\u001b[1;33m,\u001b[0m \u001b[1;34m'x and y must have the same number of elements'\u001b[0m\u001b[1;33m\u001b[0m\u001b[0m\n",
      "\u001b[1;31mAssertionError\u001b[0m: effective area must be positive"
     ]
    }
   ],
   "source": [
    "xg, yg = point2grid(x, y, (-100000., 100000.), ns)"
   ]
  },
  {
   "cell_type": "code",
   "execution_count": null,
   "metadata": {
    "collapsed": true
   },
   "outputs": [],
   "source": []
  }
 ],
 "metadata": {
  "kernelspec": {
   "display_name": "Python 2",
   "language": "python",
   "name": "python2"
  },
  "language_info": {
   "codemirror_mode": {
    "name": "ipython",
    "version": 2
   },
   "file_extension": ".py",
   "mimetype": "text/x-python",
   "name": "python",
   "nbconvert_exporter": "python",
   "pygments_lexer": "ipython2",
   "version": "2.7.11"
  }
 },
 "nbformat": 4,
 "nbformat_minor": 0
}
